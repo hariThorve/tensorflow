{
  "nbformat": 4,
  "nbformat_minor": 0,
  "metadata": {
    "colab": {
      "provenance": [],
      "authorship_tag": "ABX9TyNrjNyLI77cnZJn1Kc4YxDg",
      "include_colab_link": true
    },
    "kernelspec": {
      "name": "python3",
      "display_name": "Python 3"
    },
    "language_info": {
      "name": "python"
    }
  },
  "cells": [
    {
      "cell_type": "markdown",
      "metadata": {
        "id": "view-in-github",
        "colab_type": "text"
      },
      "source": [
        "<a href=\"https://colab.research.google.com/github/hariThorve/tensorflow/blob/main/00_tensorflowFundamentals.ipynb\" target=\"_parent\"><img src=\"https://colab.research.google.com/assets/colab-badge.svg\" alt=\"Open In Colab\"/></a>"
      ]
    },
    {
      "cell_type": "code",
      "execution_count": 1,
      "metadata": {
        "colab": {
          "base_uri": "https://localhost:8080/"
        },
        "id": "R_-epc-GCOAj",
        "outputId": "a13d7e21-7a3d-4a71-9a4c-6235b2eabd8a"
      },
      "outputs": [
        {
          "output_type": "stream",
          "name": "stdout",
          "text": [
            "2.17.1\n"
          ]
        }
      ],
      "source": [
        "import tensorflow as tf\n",
        "print(tf.__version__)"
      ]
    },
    {
      "cell_type": "code",
      "source": [
        "# create tensor with tf.constant()\n",
        "\n",
        "scalar = tf.constant(7)\n",
        "scalar"
      ],
      "metadata": {
        "colab": {
          "base_uri": "https://localhost:8080/"
        },
        "id": "St1W3BQlED_A",
        "outputId": "7940bc7c-18a1-4188-b81d-f40df4a545ae"
      },
      "execution_count": 2,
      "outputs": [
        {
          "output_type": "execute_result",
          "data": {
            "text/plain": [
              "<tf.Tensor: shape=(), dtype=int32, numpy=7>"
            ]
          },
          "metadata": {},
          "execution_count": 2
        }
      ]
    },
    {
      "cell_type": "code",
      "source": [
        "# check number of dimensions of the tensor (ndim stands for numoy dimensions)\n",
        "\n",
        "scalar.ndim"
      ],
      "metadata": {
        "colab": {
          "base_uri": "https://localhost:8080/"
        },
        "id": "JalFNj5zEwpq",
        "outputId": "b484dee9-df8b-4a63-bfd0-3264c1a86c6b"
      },
      "execution_count": 3,
      "outputs": [
        {
          "output_type": "execute_result",
          "data": {
            "text/plain": [
              "0"
            ]
          },
          "metadata": {},
          "execution_count": 3
        }
      ]
    },
    {
      "cell_type": "code",
      "source": [
        "# create a vector\n",
        "vector = tf.constant([10, 10])\n",
        "vector"
      ],
      "metadata": {
        "colab": {
          "base_uri": "https://localhost:8080/"
        },
        "id": "S8jRtudNE_Oj",
        "outputId": "dfeda276-1f49-487b-86c5-049e939e82d4"
      },
      "execution_count": 4,
      "outputs": [
        {
          "output_type": "execute_result",
          "data": {
            "text/plain": [
              "<tf.Tensor: shape=(2,), dtype=int32, numpy=array([10, 10], dtype=int32)>"
            ]
          },
          "metadata": {},
          "execution_count": 4
        }
      ]
    },
    {
      "cell_type": "code",
      "source": [
        "# check dimensions of the vector\n",
        "\n",
        "vector.ndim"
      ],
      "metadata": {
        "colab": {
          "base_uri": "https://localhost:8080/"
        },
        "id": "GrWDZBADFSPD",
        "outputId": "caa5b622-f139-4c25-9f54-e7b40541b08a"
      },
      "execution_count": 5,
      "outputs": [
        {
          "output_type": "execute_result",
          "data": {
            "text/plain": [
              "1"
            ]
          },
          "metadata": {},
          "execution_count": 5
        }
      ]
    },
    {
      "cell_type": "code",
      "source": [
        "# create a matrix\n",
        "\n",
        "matrix = tf.constant([[10, 7], [1, 2]])\n",
        "matrix"
      ],
      "metadata": {
        "colab": {
          "base_uri": "https://localhost:8080/"
        },
        "id": "FyEToJ1UFaYR",
        "outputId": "96a52470-c5af-4735-8337-24b9f7b3283c"
      },
      "execution_count": 6,
      "outputs": [
        {
          "output_type": "execute_result",
          "data": {
            "text/plain": [
              "<tf.Tensor: shape=(2, 2), dtype=int32, numpy=\n",
              "array([[10,  7],\n",
              "       [ 1,  2]], dtype=int32)>"
            ]
          },
          "metadata": {},
          "execution_count": 6
        }
      ]
    },
    {
      "cell_type": "code",
      "source": [
        "matrix.ndim"
      ],
      "metadata": {
        "colab": {
          "base_uri": "https://localhost:8080/"
        },
        "id": "Kgh3DYMOFpcN",
        "outputId": "43b633d3-09e5-41e6-d9a6-00de2b2c14dd"
      },
      "execution_count": 7,
      "outputs": [
        {
          "output_type": "execute_result",
          "data": {
            "text/plain": [
              "2"
            ]
          },
          "metadata": {},
          "execution_count": 7
        }
      ]
    },
    {
      "cell_type": "code",
      "source": [
        "# creating a tensor of datatype float\n",
        "\n",
        "tensor = tf.constant([[[1., 2., 3.],\n",
        "                       [4., 5., 6.]],\n",
        "                      [[7., 8., 9.],\n",
        "                       [10., 11., 12.]],\n",
        "                      [[13., 14., 15.],\n",
        "                       [16., 17., 18.]]], dtype=tf.float16)\n",
        "tensor"
      ],
      "metadata": {
        "colab": {
          "base_uri": "https://localhost:8080/"
        },
        "id": "zEldIr8iIT-x",
        "outputId": "7876ff3c-abef-401a-ef37-8ac8afbffeea"
      },
      "execution_count": 9,
      "outputs": [
        {
          "output_type": "execute_result",
          "data": {
            "text/plain": [
              "<tf.Tensor: shape=(3, 2, 3), dtype=float16, numpy=\n",
              "array([[[ 1.,  2.,  3.],\n",
              "        [ 4.,  5.,  6.]],\n",
              "\n",
              "       [[ 7.,  8.,  9.],\n",
              "        [10., 11., 12.]],\n",
              "\n",
              "       [[13., 14., 15.],\n",
              "        [16., 17., 18.]]], dtype=float16)>"
            ]
          },
          "metadata": {},
          "execution_count": 9
        }
      ]
    },
    {
      "cell_type": "code",
      "source": [
        "tensor.ndim"
      ],
      "metadata": {
        "colab": {
          "base_uri": "https://localhost:8080/"
        },
        "id": "cbGezIQ9LFIT",
        "outputId": "f2b6eb5e-8847-489d-c5e7-235d3202c336"
      },
      "execution_count": 12,
      "outputs": [
        {
          "output_type": "execute_result",
          "data": {
            "text/plain": [
              "3"
            ]
          },
          "metadata": {},
          "execution_count": 12
        }
      ]
    },
    {
      "cell_type": "markdown",
      "source": [
        "# What we created so far\n",
        "* Scalar: a single number\n",
        "* Vector: Number with direction\n",
        "* Matrix: a 2 - dimensional array of numbers\n",
        "* Tensor: an n-directional array of numbers (a 0-dimensional array is scalar and 1-dimensional array is a vector)\n",
        "\n"
      ],
      "metadata": {
        "id": "6ZCIKxXqJv6F"
      }
    },
    {
      "cell_type": "markdown",
      "source": [
        "### Creating tensor with `tf.Variable`"
      ],
      "metadata": {
        "id": "ZnVQIAETMr3F"
      }
    },
    {
      "cell_type": "code",
      "source": [
        "# create a similar tensor using tf.variable\n",
        "\n",
        "changeable_tensor = tf.Variable([10, 7])\n",
        "unchangeable_tensor = tf.constant([10, 10])\n",
        "changeable_tensor, unchangeable_tensor"
      ],
      "metadata": {
        "colab": {
          "base_uri": "https://localhost:8080/"
        },
        "id": "mFwXwy_BMk5J",
        "outputId": "4efd5c3d-6546-4b36-c9de-b6331a41f598"
      },
      "execution_count": 14,
      "outputs": [
        {
          "output_type": "execute_result",
          "data": {
            "text/plain": [
              "(<tf.Variable 'Variable:0' shape=(2,) dtype=int32, numpy=array([10,  7], dtype=int32)>,\n",
              " <tf.Tensor: shape=(2,), dtype=int32, numpy=array([10, 10], dtype=int32)>)"
            ]
          },
          "metadata": {},
          "execution_count": 14
        }
      ]
    },
    {
      "cell_type": "code",
      "source": [
        "# Lets try to change the value of \"changeable_tensor\"\n",
        "\n",
        "# changeable_tensor[0] = 7\n",
        "# above line gives following error\n",
        "\n",
        "# TypeError                                 Traceback (most recent call last)\n",
        "# <ipython-input-15-c12697976491> in <cell line: 3>()\n",
        "#       1 # Lets try to change the value of \"changeable_tensor\"\n",
        "#       2\n",
        "# ----> 3 changeable_tensor[0] = 7\n",
        "\n",
        "# TypeError: 'ResourceVariable' object does not support item assignment\n"
      ],
      "metadata": {
        "id": "uuBLZyxBNUS1"
      },
      "execution_count": 19,
      "outputs": []
    },
    {
      "cell_type": "code",
      "source": [
        "#Lets try another method that is\n",
        "\n",
        "changeable_tensor[0].assign(7)"
      ],
      "metadata": {
        "colab": {
          "base_uri": "https://localhost:8080/"
        },
        "id": "PPYkur2wNm78",
        "outputId": "a7e84dfc-ee77-4c08-f487-5e36f4a5225b"
      },
      "execution_count": 16,
      "outputs": [
        {
          "output_type": "execute_result",
          "data": {
            "text/plain": [
              "<tf.Variable 'UnreadVariable' shape=(2,) dtype=int32, numpy=array([7, 7], dtype=int32)>"
            ]
          },
          "metadata": {},
          "execution_count": 16
        }
      ]
    },
    {
      "cell_type": "code",
      "source": [
        "# Let's try similar with \"unchangeable_tensor\"\n",
        "\n",
        "# unchangeable_tensor[0].assign(7)\n",
        "\n",
        "#above line gives error\n",
        "\n",
        "# AttributeError                            Traceback (most recent call last)\n",
        "# <ipython-input-17-727e1931d5de> in <cell line: 3>()\n",
        "#       1 # Let's try similar with \"unchangeable_tensor\"\n",
        "#       2\n",
        "# ----> 3 unchangeable_tensor[0].assign(7)\n",
        "\n",
        "# /usr/local/lib/python3.10/dist-packages/tensorflow/python/framework/tensor.py in __getattr__(self, name)\n",
        "#     258         tf.experimental.numpy.experimental_enable_numpy_behavior()\n",
        "#     259       \"\"\")\n",
        "# --> 260     self.__getattribute__(name)\n",
        "#     261\n",
        "#     262   @property\n",
        "\n",
        "# AttributeError: 'tensorflow.python.framework.ops.EagerTensor' object has no attribute 'assign'"
      ],
      "metadata": {
        "id": "Ddf_mjKbNyx2"
      },
      "execution_count": 18,
      "outputs": []
    },
    {
      "cell_type": "markdown",
      "source": [
        "* So tensors made using `tf.Variable` are changeable\n",
        "* Whereas tensors made using `tf.constant` are constant and cannot be changed"
      ],
      "metadata": {
        "id": "AYqIKaRxOCOh"
      }
    },
    {
      "cell_type": "code",
      "source": [],
      "metadata": {
        "id": "xXEk3KIZOAVD"
      },
      "execution_count": null,
      "outputs": []
    }
  ]
}