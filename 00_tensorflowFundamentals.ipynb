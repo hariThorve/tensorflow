{
  "nbformat": 4,
  "nbformat_minor": 0,
  "metadata": {
    "colab": {
      "provenance": [],
      "authorship_tag": "ABX9TyO3TDoVrwzzuG0RPdSg28DT",
      "include_colab_link": true
    },
    "kernelspec": {
      "name": "python3",
      "display_name": "Python 3"
    },
    "language_info": {
      "name": "python"
    }
  },
  "cells": [
    {
      "cell_type": "markdown",
      "metadata": {
        "id": "view-in-github",
        "colab_type": "text"
      },
      "source": [
        "<a href=\"https://colab.research.google.com/github/hariThorve/tensorflow/blob/main/00_tensorflowFundamentals.ipynb\" target=\"_parent\"><img src=\"https://colab.research.google.com/assets/colab-badge.svg\" alt=\"Open In Colab\"/></a>"
      ]
    },
    {
      "cell_type": "code",
      "execution_count": 1,
      "metadata": {
        "colab": {
          "base_uri": "https://localhost:8080/"
        },
        "id": "R_-epc-GCOAj",
        "outputId": "0b616bd3-44bb-468d-cd9e-f25c9a3d494b"
      },
      "outputs": [
        {
          "output_type": "stream",
          "name": "stdout",
          "text": [
            "2.17.1\n"
          ]
        }
      ],
      "source": [
        "import tensorflow as tf\n",
        "print(tf.__version__)"
      ]
    },
    {
      "cell_type": "code",
      "source": [
        "# create tensor with tf.constant()\n",
        "\n",
        "scalar = tf.constant(7)\n",
        "scalar"
      ],
      "metadata": {
        "colab": {
          "base_uri": "https://localhost:8080/"
        },
        "id": "St1W3BQlED_A",
        "outputId": "60e01c98-7ddd-4680-eeef-ac0d60c0a265"
      },
      "execution_count": 2,
      "outputs": [
        {
          "output_type": "execute_result",
          "data": {
            "text/plain": [
              "<tf.Tensor: shape=(), dtype=int32, numpy=7>"
            ]
          },
          "metadata": {},
          "execution_count": 2
        }
      ]
    },
    {
      "cell_type": "code",
      "source": [
        "# check number of dimensions of the tensor (ndim stands for numoy dimensions)\n",
        "\n",
        "scalar.ndim"
      ],
      "metadata": {
        "colab": {
          "base_uri": "https://localhost:8080/"
        },
        "id": "JalFNj5zEwpq",
        "outputId": "afcb59a3-07ca-491b-eda8-087fbb4cc087"
      },
      "execution_count": 3,
      "outputs": [
        {
          "output_type": "execute_result",
          "data": {
            "text/plain": [
              "0"
            ]
          },
          "metadata": {},
          "execution_count": 3
        }
      ]
    },
    {
      "cell_type": "code",
      "source": [
        "# create a vector\n",
        "vector = tf.constant([10, 10])\n",
        "vector"
      ],
      "metadata": {
        "colab": {
          "base_uri": "https://localhost:8080/"
        },
        "id": "S8jRtudNE_Oj",
        "outputId": "7e6b59ce-aece-4e76-fd4d-5ec1a2275eb0"
      },
      "execution_count": 4,
      "outputs": [
        {
          "output_type": "execute_result",
          "data": {
            "text/plain": [
              "<tf.Tensor: shape=(2,), dtype=int32, numpy=array([10, 10], dtype=int32)>"
            ]
          },
          "metadata": {},
          "execution_count": 4
        }
      ]
    },
    {
      "cell_type": "code",
      "source": [
        "# check dimensions of the vector\n",
        "\n",
        "vector.ndim"
      ],
      "metadata": {
        "colab": {
          "base_uri": "https://localhost:8080/"
        },
        "id": "GrWDZBADFSPD",
        "outputId": "6aca24da-a436-4d41-b3db-86bf2f9007cb"
      },
      "execution_count": 5,
      "outputs": [
        {
          "output_type": "execute_result",
          "data": {
            "text/plain": [
              "1"
            ]
          },
          "metadata": {},
          "execution_count": 5
        }
      ]
    },
    {
      "cell_type": "code",
      "source": [
        "# create a matrix\n",
        "\n",
        "matrix = tf.constant([[10, 7], [1, 2]])\n",
        "matrix"
      ],
      "metadata": {
        "colab": {
          "base_uri": "https://localhost:8080/"
        },
        "id": "FyEToJ1UFaYR",
        "outputId": "bb087aa4-cde8-4afc-dbe8-373cb1d5eafe"
      },
      "execution_count": 6,
      "outputs": [
        {
          "output_type": "execute_result",
          "data": {
            "text/plain": [
              "<tf.Tensor: shape=(2, 2), dtype=int32, numpy=\n",
              "array([[10,  7],\n",
              "       [ 1,  2]], dtype=int32)>"
            ]
          },
          "metadata": {},
          "execution_count": 6
        }
      ]
    },
    {
      "cell_type": "code",
      "source": [
        "matrix.ndim"
      ],
      "metadata": {
        "colab": {
          "base_uri": "https://localhost:8080/"
        },
        "id": "Kgh3DYMOFpcN",
        "outputId": "333f1f91-a04a-43a2-ef70-02d9aeda76f1"
      },
      "execution_count": 7,
      "outputs": [
        {
          "output_type": "execute_result",
          "data": {
            "text/plain": [
              "2"
            ]
          },
          "metadata": {},
          "execution_count": 7
        }
      ]
    },
    {
      "cell_type": "code",
      "source": [
        "# creating a tensor of datatype float\n",
        "\n",
        "tensor = tf.constant([[[1., 2., 3.],\n",
        "                       [4., 5., 6.]],\n",
        "                      [[7., 8., 9.],\n",
        "                       [10., 11., 12.]],\n",
        "                      [[13., 14., 15.],\n",
        "                       [16., 17., 18.]]], dtype=tf.float16)\n",
        "tensor"
      ],
      "metadata": {
        "colab": {
          "base_uri": "https://localhost:8080/"
        },
        "id": "zEldIr8iIT-x",
        "outputId": "052675d5-af27-4842-d5cf-0ea074a06446"
      },
      "execution_count": 8,
      "outputs": [
        {
          "output_type": "execute_result",
          "data": {
            "text/plain": [
              "<tf.Tensor: shape=(3, 2, 3), dtype=float16, numpy=\n",
              "array([[[ 1.,  2.,  3.],\n",
              "        [ 4.,  5.,  6.]],\n",
              "\n",
              "       [[ 7.,  8.,  9.],\n",
              "        [10., 11., 12.]],\n",
              "\n",
              "       [[13., 14., 15.],\n",
              "        [16., 17., 18.]]], dtype=float16)>"
            ]
          },
          "metadata": {},
          "execution_count": 8
        }
      ]
    },
    {
      "cell_type": "code",
      "source": [
        "tensor.ndim"
      ],
      "metadata": {
        "colab": {
          "base_uri": "https://localhost:8080/"
        },
        "id": "cbGezIQ9LFIT",
        "outputId": "9ad5de88-f688-40cb-c8d7-8992e2bb3427"
      },
      "execution_count": 9,
      "outputs": [
        {
          "output_type": "execute_result",
          "data": {
            "text/plain": [
              "3"
            ]
          },
          "metadata": {},
          "execution_count": 9
        }
      ]
    },
    {
      "cell_type": "markdown",
      "source": [
        "# What we created so far\n",
        "* Scalar: a single number\n",
        "* Vector: Number with direction\n",
        "* Matrix: a 2 - dimensional array of numbers\n",
        "* Tensor: an n-directional array of numbers (a 0-dimensional array is scalar and 1-dimensional array is a vector)\n",
        "\n"
      ],
      "metadata": {
        "id": "6ZCIKxXqJv6F"
      }
    },
    {
      "cell_type": "markdown",
      "source": [
        "### Creating tensor with `tf.Variable`"
      ],
      "metadata": {
        "id": "ZnVQIAETMr3F"
      }
    },
    {
      "cell_type": "code",
      "source": [
        "# create a similar tensor using tf.variable\n",
        "\n",
        "changeable_tensor = tf.Variable([10, 7])\n",
        "unchangeable_tensor = tf.constant([10, 10])\n",
        "changeable_tensor, unchangeable_tensor"
      ],
      "metadata": {
        "colab": {
          "base_uri": "https://localhost:8080/"
        },
        "id": "mFwXwy_BMk5J",
        "outputId": "160ac973-511d-4141-eb3d-b4195a45e85e"
      },
      "execution_count": 10,
      "outputs": [
        {
          "output_type": "execute_result",
          "data": {
            "text/plain": [
              "(<tf.Variable 'Variable:0' shape=(2,) dtype=int32, numpy=array([10,  7], dtype=int32)>,\n",
              " <tf.Tensor: shape=(2,), dtype=int32, numpy=array([10, 10], dtype=int32)>)"
            ]
          },
          "metadata": {},
          "execution_count": 10
        }
      ]
    },
    {
      "cell_type": "code",
      "source": [
        "# Lets try to change the value of \"changeable_tensor\"\n",
        "\n",
        "# changeable_tensor[0] = 7\n",
        "# above line gives following error\n",
        "\n",
        "# TypeError                                 Traceback (most recent call last)\n",
        "# <ipython-input-15-c12697976491> in <cell line: 3>()\n",
        "#       1 # Lets try to change the value of \"changeable_tensor\"\n",
        "#       2\n",
        "# ----> 3 changeable_tensor[0] = 7\n",
        "\n",
        "# TypeError: 'ResourceVariable' object does not support item assignment\n"
      ],
      "metadata": {
        "id": "uuBLZyxBNUS1"
      },
      "execution_count": 11,
      "outputs": []
    },
    {
      "cell_type": "code",
      "source": [
        "#Lets try another method that is\n",
        "\n",
        "changeable_tensor[0].assign(7)"
      ],
      "metadata": {
        "colab": {
          "base_uri": "https://localhost:8080/"
        },
        "id": "PPYkur2wNm78",
        "outputId": "37d74b60-cde4-401e-de0e-52b24d51bf58"
      },
      "execution_count": 12,
      "outputs": [
        {
          "output_type": "execute_result",
          "data": {
            "text/plain": [
              "<tf.Variable 'UnreadVariable' shape=(2,) dtype=int32, numpy=array([7, 7], dtype=int32)>"
            ]
          },
          "metadata": {},
          "execution_count": 12
        }
      ]
    },
    {
      "cell_type": "code",
      "source": [
        "# Let's try similar with \"unchangeable_tensor\"\n",
        "\n",
        "# unchangeable_tensor[0].assign(7)\n",
        "\n",
        "#above line gives error\n",
        "\n",
        "# AttributeError                            Traceback (most recent call last)\n",
        "# <ipython-input-17-727e1931d5de> in <cell line: 3>()\n",
        "#       1 # Let's try similar with \"unchangeable_tensor\"\n",
        "#       2\n",
        "# ----> 3 unchangeable_tensor[0].assign(7)\n",
        "\n",
        "# /usr/local/lib/python3.10/dist-packages/tensorflow/python/framework/tensor.py in __getattr__(self, name)\n",
        "#     258         tf.experimental.numpy.experimental_enable_numpy_behavior()\n",
        "#     259       \"\"\")\n",
        "# --> 260     self.__getattribute__(name)\n",
        "#     261\n",
        "#     262   @property\n",
        "\n",
        "# AttributeError: 'tensorflow.python.framework.ops.EagerTensor' object has no attribute 'assign'"
      ],
      "metadata": {
        "id": "Ddf_mjKbNyx2"
      },
      "execution_count": 13,
      "outputs": []
    },
    {
      "cell_type": "markdown",
      "source": [
        "* So tensors made using `tf.Variable` are changeable\n",
        "* Whereas tensors made using `tf.constant` are constant and cannot be changed"
      ],
      "metadata": {
        "id": "AYqIKaRxOCOh"
      }
    },
    {
      "cell_type": "markdown",
      "source": [
        "## Creating an random tensor"
      ],
      "metadata": {
        "id": "xXEk3KIZOAVD"
      }
    },
    {
      "cell_type": "code",
      "source": [
        "random1 = tf.random.Generator.from_seed(42) #set seed for reproducibility\n",
        "random1 = random1.normal(shape=(3, 2))\n",
        "random2 = tf.random.Generator.from_seed(42)\n",
        "random2 = random2.normal(shape = (3, 2))\n",
        "random1, random2, random1 == random2"
      ],
      "metadata": {
        "colab": {
          "base_uri": "https://localhost:8080/"
        },
        "id": "5aXvj0Ael4_g",
        "outputId": "2e6847f0-4f26-4520-ead2-66b47561e3c0"
      },
      "execution_count": 14,
      "outputs": [
        {
          "output_type": "execute_result",
          "data": {
            "text/plain": [
              "(<tf.Tensor: shape=(3, 2), dtype=float32, numpy=\n",
              " array([[-0.7565803 , -0.06854702],\n",
              "        [ 0.07595026, -1.2573844 ],\n",
              "        [-0.23193763, -1.8107855 ]], dtype=float32)>,\n",
              " <tf.Tensor: shape=(3, 2), dtype=float32, numpy=\n",
              " array([[-0.7565803 , -0.06854702],\n",
              "        [ 0.07595026, -1.2573844 ],\n",
              "        [-0.23193763, -1.8107855 ]], dtype=float32)>,\n",
              " <tf.Tensor: shape=(3, 2), dtype=bool, numpy=\n",
              " array([[ True,  True],\n",
              "        [ True,  True],\n",
              "        [ True,  True]])>)"
            ]
          },
          "metadata": {},
          "execution_count": 14
        }
      ]
    },
    {
      "cell_type": "markdown",
      "source": [
        "## Shuffling of tensors"
      ],
      "metadata": {
        "id": "YnZhHbWluni9"
      }
    },
    {
      "cell_type": "code",
      "source": [
        "not_shuffled = tf.constant([[1, 2],\n",
        "                            [3, 4],\n",
        "                            [5, 6]])\n",
        "tf.random.shuffle(not_shuffled) # shuffle value changes constantly and does not remain same"
      ],
      "metadata": {
        "colab": {
          "base_uri": "https://localhost:8080/"
        },
        "id": "0qm4He10uux4",
        "outputId": "7fbb4801-b0cb-4f13-c44e-b247f42e6733"
      },
      "execution_count": 15,
      "outputs": [
        {
          "output_type": "execute_result",
          "data": {
            "text/plain": [
              "<tf.Tensor: shape=(3, 2), dtype=int32, numpy=\n",
              "array([[1, 2],\n",
              "       [3, 4],\n",
              "       [5, 6]], dtype=int32)>"
            ]
          },
          "metadata": {},
          "execution_count": 15
        }
      ]
    },
    {
      "cell_type": "code",
      "source": [
        "# by assigning seed we would prvent the constant shuffling\n",
        "tf.random.set_seed(42)\n",
        "tf.random.shuffle(not_shuffled, seed = 42)"
      ],
      "metadata": {
        "colab": {
          "base_uri": "https://localhost:8080/"
        },
        "id": "ytKfSyq3vY64",
        "outputId": "6624bad0-8eac-4171-a28c-eb95ae6f6275"
      },
      "execution_count": 16,
      "outputs": [
        {
          "output_type": "execute_result",
          "data": {
            "text/plain": [
              "<tf.Tensor: shape=(3, 2), dtype=int32, numpy=\n",
              "array([[1, 2],\n",
              "       [3, 4],\n",
              "       [5, 6]], dtype=int32)>"
            ]
          },
          "metadata": {},
          "execution_count": 16
        }
      ]
    },
    {
      "cell_type": "markdown",
      "source": [
        "## Other ways to create a tensor"
      ],
      "metadata": {
        "id": "va6SiPX7KfQD"
      }
    },
    {
      "cell_type": "markdown",
      "source": [
        "## Converting numpy array into tensor\n",
        "\n",
        "> Differnce between numpy and tensor is only that the tensor run faster on the GPU"
      ],
      "metadata": {
        "id": "3Ztcw0wLMzTH"
      }
    },
    {
      "cell_type": "code",
      "source": [
        "## Converting numpy array into tensor\n",
        "\n",
        "import numpy as np\n",
        "\n",
        "numpy_A = np.arange(1, 25, dtype= np.int32)\n",
        "numpy_A\n",
        "\n",
        "numpy_tensor = tf.constant(numpy_A, shape =(2, 3, 4))\n",
        "numpy_tensor"
      ],
      "metadata": {
        "colab": {
          "base_uri": "https://localhost:8080/"
        },
        "id": "ZsCn0RBrKdVa",
        "outputId": "8203ebd8-50eb-4545-e770-7523e9386ae6"
      },
      "execution_count": 17,
      "outputs": [
        {
          "output_type": "execute_result",
          "data": {
            "text/plain": [
              "<tf.Tensor: shape=(2, 3, 4), dtype=int32, numpy=\n",
              "array([[[ 1,  2,  3,  4],\n",
              "        [ 5,  6,  7,  8],\n",
              "        [ 9, 10, 11, 12]],\n",
              "\n",
              "       [[13, 14, 15, 16],\n",
              "        [17, 18, 19, 20],\n",
              "        [21, 22, 23, 24]]], dtype=int32)>"
            ]
          },
          "metadata": {},
          "execution_count": 17
        }
      ]
    },
    {
      "cell_type": "code",
      "source": [
        "# Creting a tensor of all ones\n",
        "\n",
        "onesTensor = tf.ones([3, 4]) ## by default values are assigned float\n",
        "onesTensor"
      ],
      "metadata": {
        "colab": {
          "base_uri": "https://localhost:8080/"
        },
        "id": "0HAN7pSXLyxu",
        "outputId": "fafe0085-9f4d-4823-839a-91b81e9f6ded"
      },
      "execution_count": 18,
      "outputs": [
        {
          "output_type": "execute_result",
          "data": {
            "text/plain": [
              "<tf.Tensor: shape=(3, 4), dtype=float32, numpy=\n",
              "array([[1., 1., 1., 1.],\n",
              "       [1., 1., 1., 1.],\n",
              "       [1., 1., 1., 1.]], dtype=float32)>"
            ]
          },
          "metadata": {},
          "execution_count": 18
        }
      ]
    },
    {
      "cell_type": "code",
      "source": [
        "# Creating a tensor of all zeros\n",
        "\n",
        "zeroTensor = tf.zeros(shape = (3, 4), dtype = tf.int32)\n",
        "zeroTensor"
      ],
      "metadata": {
        "colab": {
          "base_uri": "https://localhost:8080/"
        },
        "id": "vsukPvdkMHo1",
        "outputId": "9369afc5-35f5-449f-b782-2426b8975bb9"
      },
      "execution_count": 19,
      "outputs": [
        {
          "output_type": "execute_result",
          "data": {
            "text/plain": [
              "<tf.Tensor: shape=(3, 4), dtype=int32, numpy=\n",
              "array([[0, 0, 0, 0],\n",
              "       [0, 0, 0, 0],\n",
              "       [0, 0, 0, 0]], dtype=int32)>"
            ]
          },
          "metadata": {},
          "execution_count": 19
        }
      ]
    },
    {
      "cell_type": "markdown",
      "source": [
        "## Get information from the tensor\n",
        "\n",
        "### Following are the attributes of the tensor\n",
        " * Size\n",
        " * Shape\n",
        " * Axis of dimensions\n",
        " * Rank"
      ],
      "metadata": {
        "id": "wiL1zejQQWjt"
      }
    },
    {
      "cell_type": "code",
      "source": [
        "# Create a tensor of rank 4 (that is tensor with 4 dimensions)\n",
        "\n",
        "rank_4_tensor = tf.zeros([2, 3 , 4, 5], dtype = tf.int32)\n",
        "rank_4_tensor"
      ],
      "metadata": {
        "colab": {
          "base_uri": "https://localhost:8080/"
        },
        "id": "GdiCUAXIQphv",
        "outputId": "0f7eb38a-f670-434a-9ebe-0d032c777082"
      },
      "execution_count": 20,
      "outputs": [
        {
          "output_type": "execute_result",
          "data": {
            "text/plain": [
              "<tf.Tensor: shape=(2, 3, 4, 5), dtype=int32, numpy=\n",
              "array([[[[0, 0, 0, 0, 0],\n",
              "         [0, 0, 0, 0, 0],\n",
              "         [0, 0, 0, 0, 0],\n",
              "         [0, 0, 0, 0, 0]],\n",
              "\n",
              "        [[0, 0, 0, 0, 0],\n",
              "         [0, 0, 0, 0, 0],\n",
              "         [0, 0, 0, 0, 0],\n",
              "         [0, 0, 0, 0, 0]],\n",
              "\n",
              "        [[0, 0, 0, 0, 0],\n",
              "         [0, 0, 0, 0, 0],\n",
              "         [0, 0, 0, 0, 0],\n",
              "         [0, 0, 0, 0, 0]]],\n",
              "\n",
              "\n",
              "       [[[0, 0, 0, 0, 0],\n",
              "         [0, 0, 0, 0, 0],\n",
              "         [0, 0, 0, 0, 0],\n",
              "         [0, 0, 0, 0, 0]],\n",
              "\n",
              "        [[0, 0, 0, 0, 0],\n",
              "         [0, 0, 0, 0, 0],\n",
              "         [0, 0, 0, 0, 0],\n",
              "         [0, 0, 0, 0, 0]],\n",
              "\n",
              "        [[0, 0, 0, 0, 0],\n",
              "         [0, 0, 0, 0, 0],\n",
              "         [0, 0, 0, 0, 0],\n",
              "         [0, 0, 0, 0, 0]]]], dtype=int32)>"
            ]
          },
          "metadata": {},
          "execution_count": 20
        }
      ]
    },
    {
      "cell_type": "code",
      "source": [
        "# Getting to know about various attributes of \"rank_4_tensor\"\n",
        "\n",
        "print(\"Datatype of the tensor: \", rank_4_tensor.dtype)\n",
        "print(\"Shape of the tensor: \", rank_4_tensor.shape)\n",
        "print(\"Number of dimensions in the tensor: \", rank_4_tensor.ndim)\n",
        "print(\"Number of elements along the 0 axis of tensor: \", rank_4_tensor.shape[0])\n",
        "print(\"Number of elements along the last axis of the tensor: \", rank_4_tensor.shape[-1])\n",
        "print(\"Number of elements in the tensor: \", tf.size(rank_4_tensor))\n",
        "print(\"Number of elements in the tensor: \", tf.size(rank_4_tensor).numpy())"
      ],
      "metadata": {
        "colab": {
          "base_uri": "https://localhost:8080/"
        },
        "id": "pyBFuglCRGYh",
        "outputId": "b5a8f1c0-e869-4705-b321-6ffca6c1dd83"
      },
      "execution_count": 21,
      "outputs": [
        {
          "output_type": "stream",
          "name": "stdout",
          "text": [
            "Datatype of the tensor:  <dtype: 'int32'>\n",
            "Shape of the tensor:  (2, 3, 4, 5)\n",
            "Number of dimensions in the tensor:  4\n",
            "Number of elements along the 0 axis of tensor:  2\n",
            "Number of elements along the last axis of the tensor:  5\n",
            "Number of elements in the tensor:  tf.Tensor(120, shape=(), dtype=int32)\n",
            "Number of elements in the tensor:  120\n"
          ]
        }
      ]
    },
    {
      "cell_type": "markdown",
      "source": [
        "# Indexing of tensors\n"
      ],
      "metadata": {
        "id": "Ygqaku4-SJGB"
      }
    },
    {
      "cell_type": "code",
      "source": [
        "rank2Tensor = tf.constant([[1, 2],\n",
        "                           [3, 4]])\n",
        "rank2Tensor"
      ],
      "metadata": {
        "colab": {
          "base_uri": "https://localhost:8080/"
        },
        "id": "TBr4IwppbZQ-",
        "outputId": "84a22477-ac2c-480a-b807-6091e48a2df5"
      },
      "execution_count": 22,
      "outputs": [
        {
          "output_type": "execute_result",
          "data": {
            "text/plain": [
              "<tf.Tensor: shape=(2, 2), dtype=int32, numpy=\n",
              "array([[1, 2],\n",
              "       [3, 4]], dtype=int32)>"
            ]
          },
          "metadata": {},
          "execution_count": 22
        }
      ]
    },
    {
      "cell_type": "code",
      "source": [
        "# Getting only 1st element from each array\n",
        "rank2Tensor[:, :1]"
      ],
      "metadata": {
        "colab": {
          "base_uri": "https://localhost:8080/"
        },
        "id": "dFLf6n_NcPwG",
        "outputId": "c612bcea-7831-4208-8a89-2b95f0e668ed"
      },
      "execution_count": 23,
      "outputs": [
        {
          "output_type": "execute_result",
          "data": {
            "text/plain": [
              "<tf.Tensor: shape=(2, 1), dtype=int32, numpy=\n",
              "array([[1],\n",
              "       [3]], dtype=int32)>"
            ]
          },
          "metadata": {},
          "execution_count": 23
        }
      ]
    },
    {
      "cell_type": "code",
      "source": [
        "# Getting only last element from each array\n",
        "rank2Tensor[:, -1]"
      ],
      "metadata": {
        "colab": {
          "base_uri": "https://localhost:8080/"
        },
        "id": "S39TXwQbg-xo",
        "outputId": "c41fccc3-118d-482e-e814-4287aab2d4e0"
      },
      "execution_count": 24,
      "outputs": [
        {
          "output_type": "execute_result",
          "data": {
            "text/plain": [
              "<tf.Tensor: shape=(2,), dtype=int32, numpy=array([2, 4], dtype=int32)>"
            ]
          },
          "metadata": {},
          "execution_count": 24
        }
      ]
    },
    {
      "cell_type": "code",
      "source": [
        "# adding a new dimension to the tensor\n",
        "rank3Tensor = rank2Tensor[..., tf.newaxis]\n",
        "# rank3Tensor = rank2Tensor[:, :, tf.newaxis] ... also represents :, meanswithout changing the previous axis\n",
        "rank3Tensor"
      ],
      "metadata": {
        "colab": {
          "base_uri": "https://localhost:8080/"
        },
        "id": "WzOOEE8eh2EW",
        "outputId": "65cad378-5644-4ad9-d5b1-e9c145a0a992"
      },
      "execution_count": 25,
      "outputs": [
        {
          "output_type": "execute_result",
          "data": {
            "text/plain": [
              "<tf.Tensor: shape=(2, 2, 1), dtype=int32, numpy=\n",
              "array([[[1],\n",
              "        [2]],\n",
              "\n",
              "       [[3],\n",
              "        [4]]], dtype=int32)>"
            ]
          },
          "metadata": {},
          "execution_count": 25
        }
      ]
    },
    {
      "cell_type": "code",
      "source": [
        "#another way to add axis is\n",
        "tf.expand_dims(rank2Tensor, axis = -1)  # \"-1\" means expand to the final axis"
      ],
      "metadata": {
        "colab": {
          "base_uri": "https://localhost:8080/"
        },
        "id": "lCvIhKQHkvzV",
        "outputId": "d9d1c244-cd3d-47be-eb14-323823cfe3ef"
      },
      "execution_count": 26,
      "outputs": [
        {
          "output_type": "execute_result",
          "data": {
            "text/plain": [
              "<tf.Tensor: shape=(2, 2, 1), dtype=int32, numpy=\n",
              "array([[[1],\n",
              "        [2]],\n",
              "\n",
              "       [[3],\n",
              "        [4]]], dtype=int32)>"
            ]
          },
          "metadata": {},
          "execution_count": 26
        }
      ]
    },
    {
      "cell_type": "markdown",
      "source": [
        "# manipulating Tensors with basic mathematical operations"
      ],
      "metadata": {
        "id": "-NUdnkx-OQEg"
      }
    },
    {
      "cell_type": "code",
      "source": [
        "newTensor = tf.constant([[1, 2],\n",
        "                         [3, 4]])\n",
        "newTensor"
      ],
      "metadata": {
        "colab": {
          "base_uri": "https://localhost:8080/"
        },
        "id": "qnyJwAC5OPSv",
        "outputId": "aca9efa3-fa74-48a6-fe34-5b9896cf9bb7"
      },
      "execution_count": 27,
      "outputs": [
        {
          "output_type": "execute_result",
          "data": {
            "text/plain": [
              "<tf.Tensor: shape=(2, 2), dtype=int32, numpy=\n",
              "array([[1, 2],\n",
              "       [3, 4]], dtype=int32)>"
            ]
          },
          "metadata": {},
          "execution_count": 27
        }
      ]
    },
    {
      "cell_type": "code",
      "source": [
        "# Addition Operation\n",
        "\n",
        "newTensor + 10"
      ],
      "metadata": {
        "colab": {
          "base_uri": "https://localhost:8080/"
        },
        "id": "YSRTLsk3Orrp",
        "outputId": "a7e2dbf2-d4f3-4b4b-8fae-892cb5208820"
      },
      "execution_count": 28,
      "outputs": [
        {
          "output_type": "execute_result",
          "data": {
            "text/plain": [
              "<tf.Tensor: shape=(2, 2), dtype=int32, numpy=\n",
              "array([[11, 12],\n",
              "       [13, 14]], dtype=int32)>"
            ]
          },
          "metadata": {},
          "execution_count": 28
        }
      ]
    },
    {
      "cell_type": "code",
      "source": [
        "# Multiplicaiton operation\n",
        "\n",
        "newTensor * 10"
      ],
      "metadata": {
        "colab": {
          "base_uri": "https://localhost:8080/"
        },
        "id": "g0KgVHLuOx6D",
        "outputId": "6fd17179-ee5d-43a7-96f5-03afdd24c4ef"
      },
      "execution_count": 29,
      "outputs": [
        {
          "output_type": "execute_result",
          "data": {
            "text/plain": [
              "<tf.Tensor: shape=(2, 2), dtype=int32, numpy=\n",
              "array([[10, 20],\n",
              "       [30, 40]], dtype=int32)>"
            ]
          },
          "metadata": {},
          "execution_count": 29
        }
      ]
    },
    {
      "cell_type": "code",
      "source": [
        "# Same for division and subtraction\n",
        "# Another method to perform operation is\n",
        "\n",
        "tensorAddition = tf.math.add(newTensor, 10) # for addition\n",
        "tensorSubtraction = tf.math.subtract(newTensor, 10) # for subtracting\n",
        "tensorMultiplication = tf.math.multiply(newTensor, 10) # for multiplication\n",
        "tensorDivision = tf.math.divide(newTensor, 10) #for division\n",
        "\n",
        "print(tensorAddition)\n",
        "print(tensorSubtraction)\n",
        "print(tensorMultiplication)\n",
        "print(tensorDivision)"
      ],
      "metadata": {
        "colab": {
          "base_uri": "https://localhost:8080/"
        },
        "id": "59erkbpUO4F2",
        "outputId": "9cc461c2-8a41-49c9-ad62-539b9abefe2e"
      },
      "execution_count": 32,
      "outputs": [
        {
          "output_type": "stream",
          "name": "stdout",
          "text": [
            "tf.Tensor(\n",
            "[[11 12]\n",
            " [13 14]], shape=(2, 2), dtype=int32)\n",
            "tf.Tensor(\n",
            "[[-9 -8]\n",
            " [-7 -6]], shape=(2, 2), dtype=int32)\n",
            "tf.Tensor(\n",
            "[[10 20]\n",
            " [30 40]], shape=(2, 2), dtype=int32)\n",
            "tf.Tensor(\n",
            "[[0.1 0.2]\n",
            " [0.3 0.4]], shape=(2, 2), dtype=float64)\n"
          ]
        }
      ]
    },
    {
      "cell_type": "markdown",
      "source": [
        "# Note\n",
        "* Using `tf.math.` is more efficient as it comes with abilities of tensorflow and can help performing operations more faster on the GPU as compared to `tensor + 10`"
      ],
      "metadata": {
        "id": "Dyw9NMB9QCmU"
      }
    },
    {
      "cell_type": "code",
      "source": [],
      "metadata": {
        "id": "sG8a9zF-Qa3p"
      },
      "execution_count": null,
      "outputs": []
    }
  ]
}