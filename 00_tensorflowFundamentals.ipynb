{
  "nbformat": 4,
  "nbformat_minor": 0,
  "metadata": {
    "colab": {
      "provenance": [],
      "authorship_tag": "ABX9TyPCVlJ1TbLDTx/67xVo1zlG",
      "include_colab_link": true
    },
    "kernelspec": {
      "name": "python3",
      "display_name": "Python 3"
    },
    "language_info": {
      "name": "python"
    }
  },
  "cells": [
    {
      "cell_type": "markdown",
      "metadata": {
        "id": "view-in-github",
        "colab_type": "text"
      },
      "source": [
        "<a href=\"https://colab.research.google.com/github/hariThorve/tensorflow/blob/main/00_tensorflowFundamentals.ipynb\" target=\"_parent\"><img src=\"https://colab.research.google.com/assets/colab-badge.svg\" alt=\"Open In Colab\"/></a>"
      ]
    },
    {
      "cell_type": "code",
      "execution_count": 1,
      "metadata": {
        "colab": {
          "base_uri": "https://localhost:8080/"
        },
        "id": "R_-epc-GCOAj",
        "outputId": "5b7482cb-6d53-468f-8334-e4b1133070d9"
      },
      "outputs": [
        {
          "output_type": "stream",
          "name": "stdout",
          "text": [
            "2.17.1\n"
          ]
        }
      ],
      "source": [
        "import tensorflow as tf\n",
        "print(tf.__version__)"
      ]
    },
    {
      "cell_type": "code",
      "source": [
        "# create tensor with tf.constant()\n",
        "\n",
        "scalar = tf.constant(7)\n",
        "scalar"
      ],
      "metadata": {
        "colab": {
          "base_uri": "https://localhost:8080/"
        },
        "id": "St1W3BQlED_A",
        "outputId": "bf6da50a-0c35-4580-c08d-527921490fe5"
      },
      "execution_count": 2,
      "outputs": [
        {
          "output_type": "execute_result",
          "data": {
            "text/plain": [
              "<tf.Tensor: shape=(), dtype=int32, numpy=7>"
            ]
          },
          "metadata": {},
          "execution_count": 2
        }
      ]
    },
    {
      "cell_type": "code",
      "source": [
        "# check number of dimensions of the tensor (ndim stands for numoy dimensions)\n",
        "\n",
        "scalar.ndim"
      ],
      "metadata": {
        "colab": {
          "base_uri": "https://localhost:8080/"
        },
        "id": "JalFNj5zEwpq",
        "outputId": "f2a3d44c-c443-4061-84f6-80eea45e34c2"
      },
      "execution_count": 3,
      "outputs": [
        {
          "output_type": "execute_result",
          "data": {
            "text/plain": [
              "0"
            ]
          },
          "metadata": {},
          "execution_count": 3
        }
      ]
    },
    {
      "cell_type": "code",
      "source": [
        "# create a vector\n",
        "vector = tf.constant([10, 10])\n",
        "vector"
      ],
      "metadata": {
        "colab": {
          "base_uri": "https://localhost:8080/"
        },
        "id": "S8jRtudNE_Oj",
        "outputId": "b95dbc32-889e-4733-e57d-23f16cbcf08d"
      },
      "execution_count": 4,
      "outputs": [
        {
          "output_type": "execute_result",
          "data": {
            "text/plain": [
              "<tf.Tensor: shape=(2,), dtype=int32, numpy=array([10, 10], dtype=int32)>"
            ]
          },
          "metadata": {},
          "execution_count": 4
        }
      ]
    },
    {
      "cell_type": "code",
      "source": [
        "# check dimensions of the vector\n",
        "\n",
        "vector.ndim"
      ],
      "metadata": {
        "colab": {
          "base_uri": "https://localhost:8080/"
        },
        "id": "GrWDZBADFSPD",
        "outputId": "ae1d3362-d8f5-438e-bee5-3d389f423152"
      },
      "execution_count": 5,
      "outputs": [
        {
          "output_type": "execute_result",
          "data": {
            "text/plain": [
              "1"
            ]
          },
          "metadata": {},
          "execution_count": 5
        }
      ]
    },
    {
      "cell_type": "code",
      "source": [
        "# create a matrix\n",
        "\n",
        "matrix = tf.constant([[10, 7], [1, 2]])\n",
        "matrix"
      ],
      "metadata": {
        "colab": {
          "base_uri": "https://localhost:8080/"
        },
        "id": "FyEToJ1UFaYR",
        "outputId": "8bed1fdd-576b-430c-ced5-9ff91c083937"
      },
      "execution_count": 6,
      "outputs": [
        {
          "output_type": "execute_result",
          "data": {
            "text/plain": [
              "<tf.Tensor: shape=(2, 2), dtype=int32, numpy=\n",
              "array([[10,  7],\n",
              "       [ 1,  2]], dtype=int32)>"
            ]
          },
          "metadata": {},
          "execution_count": 6
        }
      ]
    },
    {
      "cell_type": "code",
      "source": [
        "matrix.ndim"
      ],
      "metadata": {
        "colab": {
          "base_uri": "https://localhost:8080/"
        },
        "id": "Kgh3DYMOFpcN",
        "outputId": "f6ef0f9f-b8f3-41f8-fd6d-117cb576a190"
      },
      "execution_count": 7,
      "outputs": [
        {
          "output_type": "execute_result",
          "data": {
            "text/plain": [
              "2"
            ]
          },
          "metadata": {},
          "execution_count": 7
        }
      ]
    },
    {
      "cell_type": "code",
      "source": [
        "# creating a tensor of datatype float\n",
        "\n",
        "tensor = tf.constant([[[1., 2., 3.],\n",
        "                       [4., 5., 6.]],\n",
        "                      [[7., 8., 9.],\n",
        "                       [10., 11., 12.]],\n",
        "                      [[13., 14., 15.],\n",
        "                       [16., 17., 18.]]], dtype=tf.float16)\n",
        "tensor"
      ],
      "metadata": {
        "colab": {
          "base_uri": "https://localhost:8080/"
        },
        "id": "zEldIr8iIT-x",
        "outputId": "6c4dd990-5df0-4b56-d37c-235be4cd5b5f"
      },
      "execution_count": 8,
      "outputs": [
        {
          "output_type": "execute_result",
          "data": {
            "text/plain": [
              "<tf.Tensor: shape=(3, 2, 3), dtype=float16, numpy=\n",
              "array([[[ 1.,  2.,  3.],\n",
              "        [ 4.,  5.,  6.]],\n",
              "\n",
              "       [[ 7.,  8.,  9.],\n",
              "        [10., 11., 12.]],\n",
              "\n",
              "       [[13., 14., 15.],\n",
              "        [16., 17., 18.]]], dtype=float16)>"
            ]
          },
          "metadata": {},
          "execution_count": 8
        }
      ]
    },
    {
      "cell_type": "code",
      "source": [
        "tensor.ndim"
      ],
      "metadata": {
        "colab": {
          "base_uri": "https://localhost:8080/"
        },
        "id": "cbGezIQ9LFIT",
        "outputId": "ddab30d6-5d4f-4502-b31d-a165c1fb7772"
      },
      "execution_count": 9,
      "outputs": [
        {
          "output_type": "execute_result",
          "data": {
            "text/plain": [
              "3"
            ]
          },
          "metadata": {},
          "execution_count": 9
        }
      ]
    },
    {
      "cell_type": "markdown",
      "source": [
        "# What we created so far\n",
        "* Scalar: a single number\n",
        "* Vector: Number with direction\n",
        "* Matrix: a 2 - dimensional array of numbers\n",
        "* Tensor: an n-directional array of numbers (a 0-dimensional array is scalar and 1-dimensional array is a vector)\n",
        "\n"
      ],
      "metadata": {
        "id": "6ZCIKxXqJv6F"
      }
    },
    {
      "cell_type": "markdown",
      "source": [
        "### Creating tensor with `tf.Variable`"
      ],
      "metadata": {
        "id": "ZnVQIAETMr3F"
      }
    },
    {
      "cell_type": "code",
      "source": [
        "# create a similar tensor using tf.variable\n",
        "\n",
        "changeable_tensor = tf.Variable([10, 7])\n",
        "unchangeable_tensor = tf.constant([10, 10])\n",
        "changeable_tensor, unchangeable_tensor"
      ],
      "metadata": {
        "colab": {
          "base_uri": "https://localhost:8080/"
        },
        "id": "mFwXwy_BMk5J",
        "outputId": "ef565f5e-efc0-40ef-fc2c-5eb265d4f76e"
      },
      "execution_count": 10,
      "outputs": [
        {
          "output_type": "execute_result",
          "data": {
            "text/plain": [
              "(<tf.Variable 'Variable:0' shape=(2,) dtype=int32, numpy=array([10,  7], dtype=int32)>,\n",
              " <tf.Tensor: shape=(2,), dtype=int32, numpy=array([10, 10], dtype=int32)>)"
            ]
          },
          "metadata": {},
          "execution_count": 10
        }
      ]
    },
    {
      "cell_type": "code",
      "source": [
        "# Lets try to change the value of \"changeable_tensor\"\n",
        "\n",
        "# changeable_tensor[0] = 7\n",
        "# above line gives following error\n",
        "\n",
        "# TypeError                                 Traceback (most recent call last)\n",
        "# <ipython-input-15-c12697976491> in <cell line: 3>()\n",
        "#       1 # Lets try to change the value of \"changeable_tensor\"\n",
        "#       2\n",
        "# ----> 3 changeable_tensor[0] = 7\n",
        "\n",
        "# TypeError: 'ResourceVariable' object does not support item assignment\n"
      ],
      "metadata": {
        "id": "uuBLZyxBNUS1"
      },
      "execution_count": 11,
      "outputs": []
    },
    {
      "cell_type": "code",
      "source": [
        "#Lets try another method that is\n",
        "\n",
        "changeable_tensor[0].assign(7)"
      ],
      "metadata": {
        "colab": {
          "base_uri": "https://localhost:8080/"
        },
        "id": "PPYkur2wNm78",
        "outputId": "93d745e9-e99c-4812-d9e7-e9f880500d5a"
      },
      "execution_count": 12,
      "outputs": [
        {
          "output_type": "execute_result",
          "data": {
            "text/plain": [
              "<tf.Variable 'UnreadVariable' shape=(2,) dtype=int32, numpy=array([7, 7], dtype=int32)>"
            ]
          },
          "metadata": {},
          "execution_count": 12
        }
      ]
    },
    {
      "cell_type": "code",
      "source": [
        "# Let's try similar with \"unchangeable_tensor\"\n",
        "\n",
        "# unchangeable_tensor[0].assign(7)\n",
        "\n",
        "#above line gives error\n",
        "\n",
        "# AttributeError                            Traceback (most recent call last)\n",
        "# <ipython-input-17-727e1931d5de> in <cell line: 3>()\n",
        "#       1 # Let's try similar with \"unchangeable_tensor\"\n",
        "#       2\n",
        "# ----> 3 unchangeable_tensor[0].assign(7)\n",
        "\n",
        "# /usr/local/lib/python3.10/dist-packages/tensorflow/python/framework/tensor.py in __getattr__(self, name)\n",
        "#     258         tf.experimental.numpy.experimental_enable_numpy_behavior()\n",
        "#     259       \"\"\")\n",
        "# --> 260     self.__getattribute__(name)\n",
        "#     261\n",
        "#     262   @property\n",
        "\n",
        "# AttributeError: 'tensorflow.python.framework.ops.EagerTensor' object has no attribute 'assign'"
      ],
      "metadata": {
        "id": "Ddf_mjKbNyx2"
      },
      "execution_count": 13,
      "outputs": []
    },
    {
      "cell_type": "markdown",
      "source": [
        "* So tensors made using `tf.Variable` are changeable\n",
        "* Whereas tensors made using `tf.constant` are constant and cannot be changed"
      ],
      "metadata": {
        "id": "AYqIKaRxOCOh"
      }
    },
    {
      "cell_type": "markdown",
      "source": [
        "## Creating an random tensor"
      ],
      "metadata": {
        "id": "xXEk3KIZOAVD"
      }
    },
    {
      "cell_type": "code",
      "source": [
        "random1 = tf.random.Generator.from_seed(42) #set seed for reproducibility\n",
        "random1 = random1.normal(shape=(3, 2))\n",
        "random2 = tf.random.Generator.from_seed(42)\n",
        "random2 = random2.normal(shape = (3, 2))\n",
        "random1, random2, random1 == random2"
      ],
      "metadata": {
        "colab": {
          "base_uri": "https://localhost:8080/"
        },
        "id": "5aXvj0Ael4_g",
        "outputId": "c80baaba-c513-47e2-b8e4-32059d7c4204"
      },
      "execution_count": 14,
      "outputs": [
        {
          "output_type": "execute_result",
          "data": {
            "text/plain": [
              "(<tf.Tensor: shape=(3, 2), dtype=float32, numpy=\n",
              " array([[-0.7565803 , -0.06854702],\n",
              "        [ 0.07595026, -1.2573844 ],\n",
              "        [-0.23193763, -1.8107855 ]], dtype=float32)>,\n",
              " <tf.Tensor: shape=(3, 2), dtype=float32, numpy=\n",
              " array([[-0.7565803 , -0.06854702],\n",
              "        [ 0.07595026, -1.2573844 ],\n",
              "        [-0.23193763, -1.8107855 ]], dtype=float32)>,\n",
              " <tf.Tensor: shape=(3, 2), dtype=bool, numpy=\n",
              " array([[ True,  True],\n",
              "        [ True,  True],\n",
              "        [ True,  True]])>)"
            ]
          },
          "metadata": {},
          "execution_count": 14
        }
      ]
    },
    {
      "cell_type": "markdown",
      "source": [
        "## Shuffling of tensors"
      ],
      "metadata": {
        "id": "YnZhHbWluni9"
      }
    },
    {
      "cell_type": "code",
      "source": [
        "not_shuffled = tf.constant([[1, 2],\n",
        "                            [3, 4],\n",
        "                            [5, 6]])\n",
        "tf.random.shuffle(not_shuffled) # shuffle value changes constantly and does not remain same"
      ],
      "metadata": {
        "colab": {
          "base_uri": "https://localhost:8080/"
        },
        "id": "0qm4He10uux4",
        "outputId": "b7f0e563-616a-4624-efee-4a8e9d295d87"
      },
      "execution_count": 15,
      "outputs": [
        {
          "output_type": "execute_result",
          "data": {
            "text/plain": [
              "<tf.Tensor: shape=(3, 2), dtype=int32, numpy=\n",
              "array([[1, 2],\n",
              "       [5, 6],\n",
              "       [3, 4]], dtype=int32)>"
            ]
          },
          "metadata": {},
          "execution_count": 15
        }
      ]
    },
    {
      "cell_type": "code",
      "source": [
        "# by assigning seed we would prvent the constant shuffling\n",
        "tf.random.set_seed(42)\n",
        "tf.random.shuffle(not_shuffled, seed = 42)"
      ],
      "metadata": {
        "colab": {
          "base_uri": "https://localhost:8080/"
        },
        "id": "ytKfSyq3vY64",
        "outputId": "ab65a6f6-4148-47ef-c1a4-414690d7710a"
      },
      "execution_count": 16,
      "outputs": [
        {
          "output_type": "execute_result",
          "data": {
            "text/plain": [
              "<tf.Tensor: shape=(3, 2), dtype=int32, numpy=\n",
              "array([[1, 2],\n",
              "       [3, 4],\n",
              "       [5, 6]], dtype=int32)>"
            ]
          },
          "metadata": {},
          "execution_count": 16
        }
      ]
    },
    {
      "cell_type": "markdown",
      "source": [
        "## Other ways to create a tensor"
      ],
      "metadata": {
        "id": "va6SiPX7KfQD"
      }
    },
    {
      "cell_type": "markdown",
      "source": [
        "## Converting numpy array into tensor\n",
        "\n",
        "> Differnce between numpy and tensor is only that the tensor run faster on the GPU"
      ],
      "metadata": {
        "id": "3Ztcw0wLMzTH"
      }
    },
    {
      "cell_type": "code",
      "source": [
        "## Converting numpy array into tensor\n",
        "\n",
        "import numpy as np\n",
        "\n",
        "numpy_A = np.arange(1, 25, dtype= np.int32)\n",
        "numpy_A\n",
        "\n",
        "numpy_tensor = tf.constant(numpy_A, shape =(2, 3, 4))\n",
        "numpy_tensor"
      ],
      "metadata": {
        "colab": {
          "base_uri": "https://localhost:8080/"
        },
        "id": "ZsCn0RBrKdVa",
        "outputId": "11670aa2-9873-4da4-d1f7-f038ae740244"
      },
      "execution_count": 17,
      "outputs": [
        {
          "output_type": "execute_result",
          "data": {
            "text/plain": [
              "<tf.Tensor: shape=(2, 3, 4), dtype=int32, numpy=\n",
              "array([[[ 1,  2,  3,  4],\n",
              "        [ 5,  6,  7,  8],\n",
              "        [ 9, 10, 11, 12]],\n",
              "\n",
              "       [[13, 14, 15, 16],\n",
              "        [17, 18, 19, 20],\n",
              "        [21, 22, 23, 24]]], dtype=int32)>"
            ]
          },
          "metadata": {},
          "execution_count": 17
        }
      ]
    },
    {
      "cell_type": "code",
      "source": [
        "# Creting a tensor of all ones\n",
        "\n",
        "onesTensor = tf.ones([3, 4]) ## by default values are assigned float\n",
        "onesTensor"
      ],
      "metadata": {
        "colab": {
          "base_uri": "https://localhost:8080/"
        },
        "id": "0HAN7pSXLyxu",
        "outputId": "2904373f-2d78-48c8-c98f-6b8fae3f0442"
      },
      "execution_count": 18,
      "outputs": [
        {
          "output_type": "execute_result",
          "data": {
            "text/plain": [
              "<tf.Tensor: shape=(3, 4), dtype=float32, numpy=\n",
              "array([[1., 1., 1., 1.],\n",
              "       [1., 1., 1., 1.],\n",
              "       [1., 1., 1., 1.]], dtype=float32)>"
            ]
          },
          "metadata": {},
          "execution_count": 18
        }
      ]
    },
    {
      "cell_type": "code",
      "source": [
        "# Creating a tensor of all zeros\n",
        "\n",
        "zeroTensor = tf.zeros(shape = (3, 4), dtype = tf.int32)\n",
        "zeroTensor"
      ],
      "metadata": {
        "colab": {
          "base_uri": "https://localhost:8080/"
        },
        "id": "vsukPvdkMHo1",
        "outputId": "f7889f00-fe3d-467d-cf08-c735533e1aa4"
      },
      "execution_count": 19,
      "outputs": [
        {
          "output_type": "execute_result",
          "data": {
            "text/plain": [
              "<tf.Tensor: shape=(3, 4), dtype=int32, numpy=\n",
              "array([[0, 0, 0, 0],\n",
              "       [0, 0, 0, 0],\n",
              "       [0, 0, 0, 0]], dtype=int32)>"
            ]
          },
          "metadata": {},
          "execution_count": 19
        }
      ]
    },
    {
      "cell_type": "markdown",
      "source": [
        "## Get information from the tensor\n",
        "\n",
        "### Following are the attributes of the tensor\n",
        " * Size\n",
        " * Shape\n",
        " * Axis of dimensions\n",
        " * Rank"
      ],
      "metadata": {
        "id": "wiL1zejQQWjt"
      }
    },
    {
      "cell_type": "code",
      "source": [
        "# Create a tensor of rank 4 (that is tensor with 4 dimensions)\n",
        "\n",
        "rank_4_tensor = tf.zeros([2, 3 , 4, 5], dtype = tf.int32)\n",
        "rank_4_tensor"
      ],
      "metadata": {
        "colab": {
          "base_uri": "https://localhost:8080/"
        },
        "id": "GdiCUAXIQphv",
        "outputId": "ac2b3707-2aff-43b2-e4f6-66dc08bb569c"
      },
      "execution_count": 20,
      "outputs": [
        {
          "output_type": "execute_result",
          "data": {
            "text/plain": [
              "<tf.Tensor: shape=(2, 3, 4, 5), dtype=int32, numpy=\n",
              "array([[[[0, 0, 0, 0, 0],\n",
              "         [0, 0, 0, 0, 0],\n",
              "         [0, 0, 0, 0, 0],\n",
              "         [0, 0, 0, 0, 0]],\n",
              "\n",
              "        [[0, 0, 0, 0, 0],\n",
              "         [0, 0, 0, 0, 0],\n",
              "         [0, 0, 0, 0, 0],\n",
              "         [0, 0, 0, 0, 0]],\n",
              "\n",
              "        [[0, 0, 0, 0, 0],\n",
              "         [0, 0, 0, 0, 0],\n",
              "         [0, 0, 0, 0, 0],\n",
              "         [0, 0, 0, 0, 0]]],\n",
              "\n",
              "\n",
              "       [[[0, 0, 0, 0, 0],\n",
              "         [0, 0, 0, 0, 0],\n",
              "         [0, 0, 0, 0, 0],\n",
              "         [0, 0, 0, 0, 0]],\n",
              "\n",
              "        [[0, 0, 0, 0, 0],\n",
              "         [0, 0, 0, 0, 0],\n",
              "         [0, 0, 0, 0, 0],\n",
              "         [0, 0, 0, 0, 0]],\n",
              "\n",
              "        [[0, 0, 0, 0, 0],\n",
              "         [0, 0, 0, 0, 0],\n",
              "         [0, 0, 0, 0, 0],\n",
              "         [0, 0, 0, 0, 0]]]], dtype=int32)>"
            ]
          },
          "metadata": {},
          "execution_count": 20
        }
      ]
    },
    {
      "cell_type": "code",
      "source": [
        "# Getting to know about various attributes of \"rank_4_tensor\"\n",
        "\n",
        "print(\"Datatype of the tensor: \", rank_4_tensor.dtype)\n",
        "print(\"Shape of the tensor: \", rank_4_tensor.shape)\n",
        "print(\"Number of dimensions in the tensor: \", rank_4_tensor.ndim)\n",
        "print(\"Number of elements along the 0 axis of tensor: \", rank_4_tensor.shape[0])\n",
        "print(\"Number of elements along the last axis of the tensor: \", rank_4_tensor.shape[-1])\n",
        "print(\"Number of elements in the tensor: \", tf.size(rank_4_tensor))\n",
        "print(\"Number of elements in the tensor: \", tf.size(rank_4_tensor).numpy())"
      ],
      "metadata": {
        "colab": {
          "base_uri": "https://localhost:8080/"
        },
        "id": "pyBFuglCRGYh",
        "outputId": "a0e4c170-d5a8-44b8-93ed-f873502a7073"
      },
      "execution_count": 21,
      "outputs": [
        {
          "output_type": "stream",
          "name": "stdout",
          "text": [
            "Datatype of the tensor:  <dtype: 'int32'>\n",
            "Shape of the tensor:  (2, 3, 4, 5)\n",
            "Number of dimensions in the tensor:  4\n",
            "Number of elements along the 0 axis of tensor:  2\n",
            "Number of elements along the last axis of the tensor:  5\n",
            "Number of elements in the tensor:  tf.Tensor(120, shape=(), dtype=int32)\n",
            "Number of elements in the tensor:  120\n"
          ]
        }
      ]
    },
    {
      "cell_type": "markdown",
      "source": [
        "# Indexing of tensors\n"
      ],
      "metadata": {
        "id": "Ygqaku4-SJGB"
      }
    },
    {
      "cell_type": "code",
      "source": [
        "rank2Tensor = tf.constant([[1, 2],\n",
        "                           [3, 4]])\n",
        "rank2Tensor"
      ],
      "metadata": {
        "colab": {
          "base_uri": "https://localhost:8080/"
        },
        "id": "TBr4IwppbZQ-",
        "outputId": "5ac2b3d4-273e-4172-f0b4-bc8e5329d2f4"
      },
      "execution_count": 22,
      "outputs": [
        {
          "output_type": "execute_result",
          "data": {
            "text/plain": [
              "<tf.Tensor: shape=(2, 2), dtype=int32, numpy=\n",
              "array([[1, 2],\n",
              "       [3, 4]], dtype=int32)>"
            ]
          },
          "metadata": {},
          "execution_count": 22
        }
      ]
    },
    {
      "cell_type": "code",
      "source": [
        "# Getting only 1st element from each array\n",
        "rank2Tensor[:, :1]"
      ],
      "metadata": {
        "colab": {
          "base_uri": "https://localhost:8080/"
        },
        "id": "dFLf6n_NcPwG",
        "outputId": "85d0ea1a-1490-4b2c-ca50-04c6eda3f2c5"
      },
      "execution_count": 23,
      "outputs": [
        {
          "output_type": "execute_result",
          "data": {
            "text/plain": [
              "<tf.Tensor: shape=(2, 1), dtype=int32, numpy=\n",
              "array([[1],\n",
              "       [3]], dtype=int32)>"
            ]
          },
          "metadata": {},
          "execution_count": 23
        }
      ]
    },
    {
      "cell_type": "code",
      "source": [
        "# Getting only last element from each array\n",
        "rank2Tensor[:, -1]"
      ],
      "metadata": {
        "colab": {
          "base_uri": "https://localhost:8080/"
        },
        "id": "S39TXwQbg-xo",
        "outputId": "c96c756f-25ee-4556-f821-2e2c690133e0"
      },
      "execution_count": 24,
      "outputs": [
        {
          "output_type": "execute_result",
          "data": {
            "text/plain": [
              "<tf.Tensor: shape=(2,), dtype=int32, numpy=array([2, 4], dtype=int32)>"
            ]
          },
          "metadata": {},
          "execution_count": 24
        }
      ]
    },
    {
      "cell_type": "code",
      "source": [
        "# adding a new dimension to the tensor\n",
        "rank3Tensor = rank2Tensor[..., tf.newaxis]\n",
        "# rank3Tensor = rank2Tensor[:, :, tf.newaxis] ... also represents :, meanswithout changing the previous axis\n",
        "rank3Tensor"
      ],
      "metadata": {
        "colab": {
          "base_uri": "https://localhost:8080/"
        },
        "id": "WzOOEE8eh2EW",
        "outputId": "7c321bdb-3b7c-426e-c849-ed037e954c0e"
      },
      "execution_count": 25,
      "outputs": [
        {
          "output_type": "execute_result",
          "data": {
            "text/plain": [
              "<tf.Tensor: shape=(2, 2, 1), dtype=int32, numpy=\n",
              "array([[[1],\n",
              "        [2]],\n",
              "\n",
              "       [[3],\n",
              "        [4]]], dtype=int32)>"
            ]
          },
          "metadata": {},
          "execution_count": 25
        }
      ]
    },
    {
      "cell_type": "code",
      "source": [
        "#another way to add axis is\n",
        "tf.expand_dims(rank2Tensor, axis = -1)  # \"-1\" means expand to the final axis"
      ],
      "metadata": {
        "colab": {
          "base_uri": "https://localhost:8080/"
        },
        "id": "lCvIhKQHkvzV",
        "outputId": "02b87814-c790-4a6d-dd96-1459ddaf1cba"
      },
      "execution_count": 26,
      "outputs": [
        {
          "output_type": "execute_result",
          "data": {
            "text/plain": [
              "<tf.Tensor: shape=(2, 2, 1), dtype=int32, numpy=\n",
              "array([[[1],\n",
              "        [2]],\n",
              "\n",
              "       [[3],\n",
              "        [4]]], dtype=int32)>"
            ]
          },
          "metadata": {},
          "execution_count": 26
        }
      ]
    },
    {
      "cell_type": "markdown",
      "source": [
        "# manipulating Tensors with basic mathematical operations"
      ],
      "metadata": {
        "id": "-NUdnkx-OQEg"
      }
    },
    {
      "cell_type": "code",
      "source": [
        "newTensor = tf.constant([[1, 2],\n",
        "                         [3, 4]])\n",
        "newTensor"
      ],
      "metadata": {
        "colab": {
          "base_uri": "https://localhost:8080/"
        },
        "id": "qnyJwAC5OPSv",
        "outputId": "62e7d659-fa72-40dc-b156-22687fc066ad"
      },
      "execution_count": 27,
      "outputs": [
        {
          "output_type": "execute_result",
          "data": {
            "text/plain": [
              "<tf.Tensor: shape=(2, 2), dtype=int32, numpy=\n",
              "array([[1, 2],\n",
              "       [3, 4]], dtype=int32)>"
            ]
          },
          "metadata": {},
          "execution_count": 27
        }
      ]
    },
    {
      "cell_type": "code",
      "source": [
        "# Addition Operation\n",
        "\n",
        "newTensor + 10"
      ],
      "metadata": {
        "colab": {
          "base_uri": "https://localhost:8080/"
        },
        "id": "YSRTLsk3Orrp",
        "outputId": "751b1714-41cc-4ffb-832e-5cfe6c3297ce"
      },
      "execution_count": 28,
      "outputs": [
        {
          "output_type": "execute_result",
          "data": {
            "text/plain": [
              "<tf.Tensor: shape=(2, 2), dtype=int32, numpy=\n",
              "array([[11, 12],\n",
              "       [13, 14]], dtype=int32)>"
            ]
          },
          "metadata": {},
          "execution_count": 28
        }
      ]
    },
    {
      "cell_type": "code",
      "source": [
        "# Multiplicaiton operation\n",
        "\n",
        "newTensor * 10"
      ],
      "metadata": {
        "colab": {
          "base_uri": "https://localhost:8080/"
        },
        "id": "g0KgVHLuOx6D",
        "outputId": "6464c855-ada7-4dc1-a6c5-924a76a5e7b1"
      },
      "execution_count": 29,
      "outputs": [
        {
          "output_type": "execute_result",
          "data": {
            "text/plain": [
              "<tf.Tensor: shape=(2, 2), dtype=int32, numpy=\n",
              "array([[10, 20],\n",
              "       [30, 40]], dtype=int32)>"
            ]
          },
          "metadata": {},
          "execution_count": 29
        }
      ]
    },
    {
      "cell_type": "code",
      "source": [
        "# Same for division and subtraction\n",
        "# Another method to perform operation is\n",
        "\n",
        "tensorAddition = tf.math.add(newTensor, 10) # for addition\n",
        "tensorSubtraction = tf.math.subtract(newTensor, 10) # for subtracting\n",
        "tensorMultiplication = tf.math.multiply(newTensor, 10) # for multiplication\n",
        "tensorDivision = tf.math.divide(newTensor, 10) #for division\n",
        "\n",
        "print(tensorAddition)\n",
        "print(tensorSubtraction)\n",
        "print(tensorMultiplication)\n",
        "print(tensorDivision)"
      ],
      "metadata": {
        "colab": {
          "base_uri": "https://localhost:8080/"
        },
        "id": "59erkbpUO4F2",
        "outputId": "2fbc8440-90c7-4cee-f44c-75deaefeec70"
      },
      "execution_count": 30,
      "outputs": [
        {
          "output_type": "stream",
          "name": "stdout",
          "text": [
            "tf.Tensor(\n",
            "[[11 12]\n",
            " [13 14]], shape=(2, 2), dtype=int32)\n",
            "tf.Tensor(\n",
            "[[-9 -8]\n",
            " [-7 -6]], shape=(2, 2), dtype=int32)\n",
            "tf.Tensor(\n",
            "[[10 20]\n",
            " [30 40]], shape=(2, 2), dtype=int32)\n",
            "tf.Tensor(\n",
            "[[0.1 0.2]\n",
            " [0.3 0.4]], shape=(2, 2), dtype=float64)\n"
          ]
        }
      ]
    },
    {
      "cell_type": "markdown",
      "source": [
        "# Note\n",
        "* Using `tf.math.` is more efficient as it comes with abilities of tensorflow and can help performing operations more faster on the GPU as compared to `tensor + 10`"
      ],
      "metadata": {
        "id": "Dyw9NMB9QCmU"
      }
    },
    {
      "cell_type": "markdown",
      "source": [
        "# Matrix Multiplication\n",
        "* multiplying matrix/tensors with another matrix/tensor\n",
        "* for this operation we use `tf.linalg.matmul` which stands for linear algebra and matrix multiplication\n"
      ],
      "metadata": {
        "id": "sXeLOsiXLF0q"
      }
    },
    {
      "cell_type": "code",
      "source": [
        "# lets create two tensor to demonstrate matrix multiplication\n",
        "matTensor1 = tf.constant([[1, 2, 5],\n",
        "                         [7, 2, 1],\n",
        "                         [3, 3, 3]])\n",
        "matTensor2 = tf.constant([[3, 5],\n",
        "                          [6, 7],\n",
        "                          [1, 8]])\n",
        "matTensor1, matTensor2"
      ],
      "metadata": {
        "colab": {
          "base_uri": "https://localhost:8080/"
        },
        "id": "sG8a9zF-Qa3p",
        "outputId": "7799f53a-533e-460d-eea6-aa7e273a28a9"
      },
      "execution_count": 31,
      "outputs": [
        {
          "output_type": "execute_result",
          "data": {
            "text/plain": [
              "(<tf.Tensor: shape=(3, 3), dtype=int32, numpy=\n",
              " array([[1, 2, 5],\n",
              "        [7, 2, 1],\n",
              "        [3, 3, 3]], dtype=int32)>,\n",
              " <tf.Tensor: shape=(3, 2), dtype=int32, numpy=\n",
              " array([[3, 5],\n",
              "        [6, 7],\n",
              "        [1, 8]], dtype=int32)>)"
            ]
          },
          "metadata": {},
          "execution_count": 31
        }
      ]
    },
    {
      "cell_type": "code",
      "source": [
        "tf.linalg.matmul(matTensor1, matTensor2)"
      ],
      "metadata": {
        "colab": {
          "base_uri": "https://localhost:8080/"
        },
        "id": "uFUyeRUpMn-o",
        "outputId": "2b230196-63f9-417b-ad62-a47ec7fcdda4"
      },
      "execution_count": 32,
      "outputs": [
        {
          "output_type": "execute_result",
          "data": {
            "text/plain": [
              "<tf.Tensor: shape=(3, 2), dtype=int32, numpy=\n",
              "array([[20, 59],\n",
              "       [34, 57],\n",
              "       [30, 60]], dtype=int32)>"
            ]
          },
          "metadata": {},
          "execution_count": 32
        }
      ]
    },
    {
      "cell_type": "markdown",
      "source": [
        "# Remember when multiplying two tensors with each other\n",
        "\n",
        "* The number of columns of the 1st matrix must equal the number of rows of the 2nd matrix.\n",
        "* And the result will have the same number of rows as the 1st matrix, and the same number of columns as the 2nd matrix.\n",
        "\n",
        "> * For example multiplying two matrcies with shape (2, 3) and (2, 3) that is the same shape will return the error.\n",
        "* As the number of columns in first matrix/tensor that is 2 does not match the number of rows in second tensor that is 3.\n",
        "* Hence to avoid this problem one of the two tensor need to change its shape this can be done using two methods\n",
        "* `tf.reshape(tensor1 , shape=(3,2))` changing shape of first tensor.\n",
        "* Or `tf.transpose(tensor1)`\n",
        "\n",
        "### Difference between `tf.reshape` and `tf.transpose`\n",
        "`tf.reshape`: changes the shape of the tensor randomly\n",
        "`tf.transpose`: changes the axis of the tensor, means changing rows to columns and columns to rows.\n"
      ],
      "metadata": {
        "id": "rd_sxvnOW5Cc"
      }
    },
    {
      "cell_type": "code",
      "source": [
        "X = tf.constant([[1, 2],\n",
        "                 [3, 4],\n",
        "                 [5, 6]])\n",
        "y = tf.constant([[7, 8],\n",
        "                 [9, 10],\n",
        "                 [11, 12]])\n",
        "# lets multiply x and y\n",
        "\n",
        "#operation =  tf.matmul(X, y)\n",
        "\n",
        "# error :\n",
        "# ---------------------------------------------------------------------------\n",
        "# InvalidArgumentError                      Traceback (most recent call last)\n",
        "# <ipython-input-36-e74340f1c6c4> in <cell line: 9>()\n",
        "#       7 # lets multiply x and y\n",
        "#       8\n",
        "# ----> 9 tf.matmul(X, y)\n",
        "\n",
        "# 2 frames\n",
        "# /usr/local/lib/python3.10/dist-packages/tensorflow/python/framework/ops.py in raise_from_not_ok_status(e, name)\n",
        "#    5981 def raise_from_not_ok_status(e, name) -> NoReturn:\n",
        "#    5982   e.message += (\" name: \" + str(name if name is not None else \"\"))\n",
        "# -> 5983   raise core._status_to_exception(e) from None  # pylint: disable=protected-access\n",
        "#    5984\n",
        "#    5985\n",
        "\n",
        "# InvalidArgumentError: {{function_node __wrapped__MatMul_device_/job:localhost/replica:0/task:0/device:CPU:0}} Matrix size-incompatible: In[0]: [3,2], In[1]: [3,2] [Op:MatMul] name:"
      ],
      "metadata": {
        "id": "6Pf0dzLxXxHh"
      },
      "execution_count": 33,
      "outputs": []
    },
    {
      "cell_type": "code",
      "source": [
        "# lets reshape either X or y\n",
        "tf.reshape(X, shape = (2, 3))\n",
        "\n",
        "# now multiply new X with y\n",
        "\n",
        "tf.matmul(tf.reshape(X, shape = (2, 3)), y)"
      ],
      "metadata": {
        "colab": {
          "base_uri": "https://localhost:8080/"
        },
        "id": "x_ZNL6E2dIqm",
        "outputId": "6a7c1c08-abd8-4f2e-ee8b-cd04c583cf98"
      },
      "execution_count": 34,
      "outputs": [
        {
          "output_type": "execute_result",
          "data": {
            "text/plain": [
              "<tf.Tensor: shape=(2, 2), dtype=int32, numpy=\n",
              "array([[ 58,  64],\n",
              "       [139, 154]], dtype=int32)>"
            ]
          },
          "metadata": {},
          "execution_count": 34
        }
      ]
    },
    {
      "cell_type": "code",
      "source": [
        "# now lets transpose any one of the tensors\n",
        "tf.transpose(X)\n",
        "\n",
        "# now multiply transposed x and y\n",
        "\n",
        "tf.matmul(tf.transpose(X), y)"
      ],
      "metadata": {
        "colab": {
          "base_uri": "https://localhost:8080/"
        },
        "id": "In_yUD46doSF",
        "outputId": "15f530ff-f0cb-40de-c318-7653d65c0c48"
      },
      "execution_count": 35,
      "outputs": [
        {
          "output_type": "execute_result",
          "data": {
            "text/plain": [
              "<tf.Tensor: shape=(2, 2), dtype=int32, numpy=\n",
              "array([[ 89,  98],\n",
              "       [116, 128]], dtype=int32)>"
            ]
          },
          "metadata": {},
          "execution_count": 35
        }
      ]
    },
    {
      "cell_type": "code",
      "source": [
        "print(\"X : \", X)\n",
        "print(\"\\n Y: \", y)\n",
        "print(\"\\n reshaped X and y : \", tf.reshape(X, shape = (2, 3)),\"\\n\", tf.reshape(y, shape = (2, 3)))\n",
        "print(\"\\n transposed X and y : \", tf.transpose(X),\"\\n\", tf.transpose(y))"
      ],
      "metadata": {
        "colab": {
          "base_uri": "https://localhost:8080/"
        },
        "id": "0iLQXK95eIM3",
        "outputId": "84a663ea-ec7c-4f21-9ffa-9110d0f0f81b"
      },
      "execution_count": 36,
      "outputs": [
        {
          "output_type": "stream",
          "name": "stdout",
          "text": [
            "X :  tf.Tensor(\n",
            "[[1 2]\n",
            " [3 4]\n",
            " [5 6]], shape=(3, 2), dtype=int32)\n",
            "\n",
            " Y:  tf.Tensor(\n",
            "[[ 7  8]\n",
            " [ 9 10]\n",
            " [11 12]], shape=(3, 2), dtype=int32)\n",
            "\n",
            " reshaped X and y :  tf.Tensor(\n",
            "[[1 2 3]\n",
            " [4 5 6]], shape=(2, 3), dtype=int32) \n",
            " tf.Tensor(\n",
            "[[ 7  8  9]\n",
            " [10 11 12]], shape=(2, 3), dtype=int32)\n",
            "\n",
            " transposed X and y :  tf.Tensor(\n",
            "[[1 3 5]\n",
            " [2 4 6]], shape=(2, 3), dtype=int32) \n",
            " tf.Tensor(\n",
            "[[ 7  9 11]\n",
            " [ 8 10 12]], shape=(2, 3), dtype=int32)\n"
          ]
        }
      ]
    },
    {
      "cell_type": "markdown",
      "source": [
        "# Finding Variance and Standard deviation of the tesnor\n",
        "\n",
        "\n"
      ],
      "metadata": {
        "id": "5ATjG5YXFSEk"
      }
    },
    {
      "cell_type": "code",
      "source": [
        "import random\n",
        "E = tf.constant(np.random.randint(1, 100, size=50))\n",
        "E"
      ],
      "metadata": {
        "colab": {
          "base_uri": "https://localhost:8080/"
        },
        "id": "_Jjwv1evFRAq",
        "outputId": "3a5231b4-c345-4404-d7de-eaeaabc77aeb"
      },
      "execution_count": 40,
      "outputs": [
        {
          "output_type": "execute_result",
          "data": {
            "text/plain": [
              "<tf.Tensor: shape=(50,), dtype=int64, numpy=\n",
              "array([ 6, 69, 89, 40, 18, 37,  1, 84, 23, 64, 20, 74,  7, 59, 86, 49, 23,\n",
              "       34, 24, 97, 60, 75, 42, 71, 13, 40, 16, 11, 18, 55,  8, 51, 98, 33,\n",
              "       11, 88, 35, 50, 50, 57, 43, 71, 62, 48, 33, 88, 78, 88, 14, 41])>"
            ]
          },
          "metadata": {},
          "execution_count": 40
        }
      ]
    },
    {
      "cell_type": "code",
      "source": [
        "# standard deviation\n",
        "stdv = tf.math.reduce_std(tf.cast(E, dtype = tf.float32)) #typecasting int to float\n",
        "\n",
        "# variance\n",
        "variance = tf.math.reduce_variance(tf.cast(E, dtype = tf.float32))\n",
        "\n",
        "stdv, variance"
      ],
      "metadata": {
        "colab": {
          "base_uri": "https://localhost:8080/"
        },
        "id": "AtlaM4W2GGKy",
        "outputId": "c03dc15d-21ec-4f90-dc81-25d005f163ab"
      },
      "execution_count": 45,
      "outputs": [
        {
          "output_type": "execute_result",
          "data": {
            "text/plain": [
              "(<tf.Tensor: shape=(), dtype=float32, numpy=27.468498>,\n",
              " <tf.Tensor: shape=(), dtype=float32, numpy=754.51843>)"
            ]
          },
          "metadata": {},
          "execution_count": 45
        }
      ]
    },
    {
      "cell_type": "markdown",
      "source": [
        "# Finding Positional maximum and minimum values of tensor\n",
        "\n"
      ],
      "metadata": {
        "id": "UGuzLtlrNFJD"
      }
    },
    {
      "cell_type": "code",
      "source": [
        "tf.random.set_seed(42)\n",
        "F = tf.random.uniform(shape = [50])\n",
        "F"
      ],
      "metadata": {
        "colab": {
          "base_uri": "https://localhost:8080/"
        },
        "id": "EtOQIGcwNNo_",
        "outputId": "0c6d1e74-394e-466e-8d1d-38e4fb8284fa"
      },
      "execution_count": 51,
      "outputs": [
        {
          "output_type": "execute_result",
          "data": {
            "text/plain": [
              "<tf.Tensor: shape=(50,), dtype=float32, numpy=\n",
              "array([0.6645621 , 0.44100678, 0.3528825 , 0.46448255, 0.03366041,\n",
              "       0.68467236, 0.74011743, 0.8724445 , 0.22632635, 0.22319686,\n",
              "       0.3103881 , 0.7223358 , 0.13318717, 0.5480639 , 0.5746088 ,\n",
              "       0.8996835 , 0.00946367, 0.5212307 , 0.6345445 , 0.1993283 ,\n",
              "       0.72942245, 0.54583454, 0.10756552, 0.6767061 , 0.6602763 ,\n",
              "       0.33695042, 0.60141766, 0.21062577, 0.8527372 , 0.44062173,\n",
              "       0.9485276 , 0.23752594, 0.81179297, 0.5263394 , 0.494308  ,\n",
              "       0.21612847, 0.8457197 , 0.8718841 , 0.3083862 , 0.6868038 ,\n",
              "       0.23764038, 0.7817228 , 0.9671384 , 0.06870162, 0.79873943,\n",
              "       0.66028714, 0.5871513 , 0.16461694, 0.7381023 , 0.32054043],\n",
              "      dtype=float32)>"
            ]
          },
          "metadata": {},
          "execution_count": 51
        }
      ]
    },
    {
      "cell_type": "code",
      "source": [
        "# Finding positional maximum value\n",
        "\n",
        "maxIndex = tf.argmax(F)\n",
        "print(\"Index of maximum value: \", maxIndex)\n",
        "print(\"Maximum value: \", F[maxIndex])\n",
        "\n",
        "#Finding positional Minimum value\n",
        "\n",
        "minIndex = tf.argmin(F)\n",
        "print(\"Index of minimum value: \", minIndex)\n",
        "print(\"Minimum value: \", F[minIndex])"
      ],
      "metadata": {
        "colab": {
          "base_uri": "https://localhost:8080/"
        },
        "id": "YcOXS6xgNviQ",
        "outputId": "1d844032-9657-4715-f977-89b07784e457"
      },
      "execution_count": 54,
      "outputs": [
        {
          "output_type": "stream",
          "name": "stdout",
          "text": [
            "Index of maximum value:  tf.Tensor(42, shape=(), dtype=int64)\n",
            "Maximum value:  tf.Tensor(0.9671384, shape=(), dtype=float32)\n",
            "Index of minimum value:  tf.Tensor(16, shape=(), dtype=int64)\n",
            "Minimum value:  tf.Tensor(0.009463668, shape=(), dtype=float32)\n"
          ]
        }
      ]
    },
    {
      "cell_type": "markdown",
      "source": [
        "# Squeezing a tensor"
      ],
      "metadata": {
        "id": "ukRStDW6Wgfd"
      }
    },
    {
      "cell_type": "code",
      "source": [
        "G = tf.constant(tf.random.uniform(shape = [50]), shape = [1, 1, 1, 50])\n",
        "G, G.shape"
      ],
      "metadata": {
        "colab": {
          "base_uri": "https://localhost:8080/"
        },
        "id": "jds0rgKhWeca",
        "outputId": "bb881e79-29e7-4c43-bdcc-6fd4779ad670"
      },
      "execution_count": 57,
      "outputs": [
        {
          "output_type": "execute_result",
          "data": {
            "text/plain": [
              "(<tf.Tensor: shape=(1, 1, 1, 50), dtype=float32, numpy=\n",
              " array([[[[0.7402308 , 0.33938193, 0.5692506 , 0.44811392, 0.29285502,\n",
              "           0.4260056 , 0.62890387, 0.691061  , 0.30925727, 0.89236605,\n",
              "           0.66396606, 0.30541587, 0.8724164 , 0.1025728 , 0.56819403,\n",
              "           0.25427842, 0.7253866 , 0.4770788 , 0.46289814, 0.88944995,\n",
              "           0.6792555 , 0.09752727, 0.01609659, 0.4876021 , 0.5832968 ,\n",
              "           0.41212583, 0.731905  , 0.93418944, 0.5298122 , 0.9664817 ,\n",
              "           0.88391197, 0.10578597, 0.44439578, 0.7851516 , 0.47332513,\n",
              "           0.89893615, 0.04290593, 0.8717004 , 0.6068529 , 0.12963045,\n",
              "           0.4527359 , 0.24573493, 0.34777248, 0.582147  , 0.82298195,\n",
              "           0.82862926, 0.877372  , 0.5319803 , 0.03594303, 0.03986669]]]],\n",
              "       dtype=float32)>,\n",
              " TensorShape([1, 1, 1, 50]))"
            ]
          },
          "metadata": {},
          "execution_count": 57
        }
      ]
    },
    {
      "cell_type": "code",
      "source": [
        "G_squeezed = tf.squeeze(G)\n",
        "G_squeezed.shape, G_squeezed"
      ],
      "metadata": {
        "colab": {
          "base_uri": "https://localhost:8080/"
        },
        "id": "dxhni5yJW7J-",
        "outputId": "e1572f5f-17c6-4b85-9ee1-b4a2bb24c3d3"
      },
      "execution_count": 58,
      "outputs": [
        {
          "output_type": "execute_result",
          "data": {
            "text/plain": [
              "(TensorShape([50]),\n",
              " <tf.Tensor: shape=(50,), dtype=float32, numpy=\n",
              " array([0.7402308 , 0.33938193, 0.5692506 , 0.44811392, 0.29285502,\n",
              "        0.4260056 , 0.62890387, 0.691061  , 0.30925727, 0.89236605,\n",
              "        0.66396606, 0.30541587, 0.8724164 , 0.1025728 , 0.56819403,\n",
              "        0.25427842, 0.7253866 , 0.4770788 , 0.46289814, 0.88944995,\n",
              "        0.6792555 , 0.09752727, 0.01609659, 0.4876021 , 0.5832968 ,\n",
              "        0.41212583, 0.731905  , 0.93418944, 0.5298122 , 0.9664817 ,\n",
              "        0.88391197, 0.10578597, 0.44439578, 0.7851516 , 0.47332513,\n",
              "        0.89893615, 0.04290593, 0.8717004 , 0.6068529 , 0.12963045,\n",
              "        0.4527359 , 0.24573493, 0.34777248, 0.582147  , 0.82298195,\n",
              "        0.82862926, 0.877372  , 0.5319803 , 0.03594303, 0.03986669],\n",
              "       dtype=float32)>)"
            ]
          },
          "metadata": {},
          "execution_count": 58
        }
      ]
    },
    {
      "cell_type": "markdown",
      "source": [
        "# One hot encoding a tensor"
      ],
      "metadata": {
        "id": "J2VSfaM_bEHt"
      }
    },
    {
      "cell_type": "code",
      "source": [
        "H = tf.constant([1, 2, 3, 4])\n",
        "H"
      ],
      "metadata": {
        "colab": {
          "base_uri": "https://localhost:8080/"
        },
        "id": "QsK5aAJxbHAR",
        "outputId": "e92ce03d-c9ff-43c1-da5c-5e1c14fa442e"
      },
      "execution_count": 59,
      "outputs": [
        {
          "output_type": "execute_result",
          "data": {
            "text/plain": [
              "<tf.Tensor: shape=(4,), dtype=int32, numpy=array([1, 2, 3, 4], dtype=int32)>"
            ]
          },
          "metadata": {},
          "execution_count": 59
        }
      ]
    },
    {
      "cell_type": "code",
      "source": [
        "#applying one hot encoding on the tensor\n",
        "\n",
        "encodedH = tf.one_hot(H, depth = 4)\n",
        "encodedH"
      ],
      "metadata": {
        "colab": {
          "base_uri": "https://localhost:8080/"
        },
        "id": "bQurzZJmbQ1B",
        "outputId": "beeda940-6918-4ba3-e308-6fad7e307668"
      },
      "execution_count": 62,
      "outputs": [
        {
          "output_type": "execute_result",
          "data": {
            "text/plain": [
              "<tf.Tensor: shape=(4, 4), dtype=float32, numpy=\n",
              "array([[0., 1., 0., 0.],\n",
              "       [0., 0., 1., 0.],\n",
              "       [0., 0., 0., 1.],\n",
              "       [0., 0., 0., 0.]], dtype=float32)>"
            ]
          },
          "metadata": {},
          "execution_count": 62
        }
      ]
    }
  ]
}