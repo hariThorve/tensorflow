{
  "nbformat": 4,
  "nbformat_minor": 0,
  "metadata": {
    "colab": {
      "provenance": [],
      "authorship_tag": "ABX9TyPwoNvjJQAdFGyBR9eyxW7u",
      "include_colab_link": true
    },
    "kernelspec": {
      "name": "python3",
      "display_name": "Python 3"
    },
    "language_info": {
      "name": "python"
    }
  },
  "cells": [
    {
      "cell_type": "markdown",
      "metadata": {
        "id": "view-in-github",
        "colab_type": "text"
      },
      "source": [
        "<a href=\"https://colab.research.google.com/github/hariThorve/tensorflow/blob/main/00_tensorflowFundamentals.ipynb\" target=\"_parent\"><img src=\"https://colab.research.google.com/assets/colab-badge.svg\" alt=\"Open In Colab\"/></a>"
      ]
    },
    {
      "cell_type": "code",
      "execution_count": 2,
      "metadata": {
        "colab": {
          "base_uri": "https://localhost:8080/"
        },
        "id": "R_-epc-GCOAj",
        "outputId": "7e2376f4-db8f-46c5-d5d4-b8dc533a6822"
      },
      "outputs": [
        {
          "output_type": "stream",
          "name": "stdout",
          "text": [
            "2.17.1\n"
          ]
        }
      ],
      "source": [
        "import tensorflow as tf\n",
        "print(tf.__version__)"
      ]
    },
    {
      "cell_type": "code",
      "source": [
        "# create tensor with tf.constant()\n",
        "\n",
        "scalar = tf.constant(7)\n",
        "scalar"
      ],
      "metadata": {
        "colab": {
          "base_uri": "https://localhost:8080/"
        },
        "id": "St1W3BQlED_A",
        "outputId": "231171fe-d5ac-4c57-bf06-6d74507c8fad"
      },
      "execution_count": 3,
      "outputs": [
        {
          "output_type": "execute_result",
          "data": {
            "text/plain": [
              "<tf.Tensor: shape=(), dtype=int32, numpy=7>"
            ]
          },
          "metadata": {},
          "execution_count": 3
        }
      ]
    },
    {
      "cell_type": "code",
      "source": [
        "# check number of dimensions of the tensor (ndim stands for numoy dimensions)\n",
        "\n",
        "scalar.ndim"
      ],
      "metadata": {
        "colab": {
          "base_uri": "https://localhost:8080/"
        },
        "id": "JalFNj5zEwpq",
        "outputId": "1eebf7ff-32b1-42c9-9d82-ea642b86c876"
      },
      "execution_count": 4,
      "outputs": [
        {
          "output_type": "execute_result",
          "data": {
            "text/plain": [
              "0"
            ]
          },
          "metadata": {},
          "execution_count": 4
        }
      ]
    },
    {
      "cell_type": "code",
      "source": [
        "# create a vector\n",
        "vector = tf.constant([10, 10])\n",
        "vector"
      ],
      "metadata": {
        "colab": {
          "base_uri": "https://localhost:8080/"
        },
        "id": "S8jRtudNE_Oj",
        "outputId": "f37fc9f7-cf2c-484c-98e6-b617adde42a5"
      },
      "execution_count": 5,
      "outputs": [
        {
          "output_type": "execute_result",
          "data": {
            "text/plain": [
              "<tf.Tensor: shape=(2,), dtype=int32, numpy=array([10, 10], dtype=int32)>"
            ]
          },
          "metadata": {},
          "execution_count": 5
        }
      ]
    },
    {
      "cell_type": "code",
      "source": [
        "# check dimensions of the vector\n",
        "\n",
        "vector.ndim"
      ],
      "metadata": {
        "colab": {
          "base_uri": "https://localhost:8080/"
        },
        "id": "GrWDZBADFSPD",
        "outputId": "f37086e7-3373-4c09-d7de-a0b2be4b9a77"
      },
      "execution_count": 6,
      "outputs": [
        {
          "output_type": "execute_result",
          "data": {
            "text/plain": [
              "1"
            ]
          },
          "metadata": {},
          "execution_count": 6
        }
      ]
    },
    {
      "cell_type": "code",
      "source": [
        "# create a matrix\n",
        "\n",
        "matrix = tf.constant([[10, 7], [1, 2]])\n",
        "matrix"
      ],
      "metadata": {
        "colab": {
          "base_uri": "https://localhost:8080/"
        },
        "id": "FyEToJ1UFaYR",
        "outputId": "9399856e-49c5-4aed-d915-0b08cd9f7976"
      },
      "execution_count": 7,
      "outputs": [
        {
          "output_type": "execute_result",
          "data": {
            "text/plain": [
              "<tf.Tensor: shape=(2, 2), dtype=int32, numpy=\n",
              "array([[10,  7],\n",
              "       [ 1,  2]], dtype=int32)>"
            ]
          },
          "metadata": {},
          "execution_count": 7
        }
      ]
    },
    {
      "cell_type": "code",
      "source": [
        "matrix.ndim"
      ],
      "metadata": {
        "colab": {
          "base_uri": "https://localhost:8080/"
        },
        "id": "Kgh3DYMOFpcN",
        "outputId": "61d76c63-1ca2-438b-d701-500ebcd57d34"
      },
      "execution_count": 8,
      "outputs": [
        {
          "output_type": "execute_result",
          "data": {
            "text/plain": [
              "2"
            ]
          },
          "metadata": {},
          "execution_count": 8
        }
      ]
    },
    {
      "cell_type": "code",
      "source": [
        "# creating a tensor of datatype float\n",
        "\n",
        "tensor = tf.constant([[[1., 2., 3.],\n",
        "                       [4., 5., 6.]],\n",
        "                      [[7., 8., 9.],\n",
        "                       [10., 11., 12.]],\n",
        "                      [[13., 14., 15.],\n",
        "                       [16., 17., 18.]]], dtype=tf.float16)\n",
        "tensor"
      ],
      "metadata": {
        "colab": {
          "base_uri": "https://localhost:8080/"
        },
        "id": "zEldIr8iIT-x",
        "outputId": "eeca531b-6597-40e9-acad-87264a3d56ca"
      },
      "execution_count": 9,
      "outputs": [
        {
          "output_type": "execute_result",
          "data": {
            "text/plain": [
              "<tf.Tensor: shape=(3, 2, 3), dtype=float16, numpy=\n",
              "array([[[ 1.,  2.,  3.],\n",
              "        [ 4.,  5.,  6.]],\n",
              "\n",
              "       [[ 7.,  8.,  9.],\n",
              "        [10., 11., 12.]],\n",
              "\n",
              "       [[13., 14., 15.],\n",
              "        [16., 17., 18.]]], dtype=float16)>"
            ]
          },
          "metadata": {},
          "execution_count": 9
        }
      ]
    },
    {
      "cell_type": "code",
      "source": [
        "tensor.ndim"
      ],
      "metadata": {
        "colab": {
          "base_uri": "https://localhost:8080/"
        },
        "id": "cbGezIQ9LFIT",
        "outputId": "8f597aee-4006-47f3-938f-72c21d722e45"
      },
      "execution_count": 10,
      "outputs": [
        {
          "output_type": "execute_result",
          "data": {
            "text/plain": [
              "3"
            ]
          },
          "metadata": {},
          "execution_count": 10
        }
      ]
    },
    {
      "cell_type": "markdown",
      "source": [
        "# What we created so far\n",
        "* Scalar: a single number\n",
        "* Vector: Number with direction\n",
        "* Matrix: a 2 - dimensional array of numbers\n",
        "* Tensor: an n-directional array of numbers (a 0-dimensional array is scalar and 1-dimensional array is a vector)\n",
        "\n"
      ],
      "metadata": {
        "id": "6ZCIKxXqJv6F"
      }
    },
    {
      "cell_type": "markdown",
      "source": [
        "### Creating tensor with `tf.Variable`"
      ],
      "metadata": {
        "id": "ZnVQIAETMr3F"
      }
    },
    {
      "cell_type": "code",
      "source": [
        "# create a similar tensor using tf.variable\n",
        "\n",
        "changeable_tensor = tf.Variable([10, 7])\n",
        "unchangeable_tensor = tf.constant([10, 10])\n",
        "changeable_tensor, unchangeable_tensor"
      ],
      "metadata": {
        "colab": {
          "base_uri": "https://localhost:8080/"
        },
        "id": "mFwXwy_BMk5J",
        "outputId": "782f3e79-0262-4336-a945-0cfe5d2e1a39"
      },
      "execution_count": 11,
      "outputs": [
        {
          "output_type": "execute_result",
          "data": {
            "text/plain": [
              "(<tf.Variable 'Variable:0' shape=(2,) dtype=int32, numpy=array([10,  7], dtype=int32)>,\n",
              " <tf.Tensor: shape=(2,), dtype=int32, numpy=array([10, 10], dtype=int32)>)"
            ]
          },
          "metadata": {},
          "execution_count": 11
        }
      ]
    },
    {
      "cell_type": "code",
      "source": [
        "# Lets try to change the value of \"changeable_tensor\"\n",
        "\n",
        "# changeable_tensor[0] = 7\n",
        "# above line gives following error\n",
        "\n",
        "# TypeError                                 Traceback (most recent call last)\n",
        "# <ipython-input-15-c12697976491> in <cell line: 3>()\n",
        "#       1 # Lets try to change the value of \"changeable_tensor\"\n",
        "#       2\n",
        "# ----> 3 changeable_tensor[0] = 7\n",
        "\n",
        "# TypeError: 'ResourceVariable' object does not support item assignment\n"
      ],
      "metadata": {
        "id": "uuBLZyxBNUS1"
      },
      "execution_count": 12,
      "outputs": []
    },
    {
      "cell_type": "code",
      "source": [
        "#Lets try another method that is\n",
        "\n",
        "changeable_tensor[0].assign(7)"
      ],
      "metadata": {
        "colab": {
          "base_uri": "https://localhost:8080/"
        },
        "id": "PPYkur2wNm78",
        "outputId": "6675a28c-2ec1-44f7-935c-c050991409ff"
      },
      "execution_count": 13,
      "outputs": [
        {
          "output_type": "execute_result",
          "data": {
            "text/plain": [
              "<tf.Variable 'UnreadVariable' shape=(2,) dtype=int32, numpy=array([7, 7], dtype=int32)>"
            ]
          },
          "metadata": {},
          "execution_count": 13
        }
      ]
    },
    {
      "cell_type": "code",
      "source": [
        "# Let's try similar with \"unchangeable_tensor\"\n",
        "\n",
        "# unchangeable_tensor[0].assign(7)\n",
        "\n",
        "#above line gives error\n",
        "\n",
        "# AttributeError                            Traceback (most recent call last)\n",
        "# <ipython-input-17-727e1931d5de> in <cell line: 3>()\n",
        "#       1 # Let's try similar with \"unchangeable_tensor\"\n",
        "#       2\n",
        "# ----> 3 unchangeable_tensor[0].assign(7)\n",
        "\n",
        "# /usr/local/lib/python3.10/dist-packages/tensorflow/python/framework/tensor.py in __getattr__(self, name)\n",
        "#     258         tf.experimental.numpy.experimental_enable_numpy_behavior()\n",
        "#     259       \"\"\")\n",
        "# --> 260     self.__getattribute__(name)\n",
        "#     261\n",
        "#     262   @property\n",
        "\n",
        "# AttributeError: 'tensorflow.python.framework.ops.EagerTensor' object has no attribute 'assign'"
      ],
      "metadata": {
        "id": "Ddf_mjKbNyx2"
      },
      "execution_count": 14,
      "outputs": []
    },
    {
      "cell_type": "markdown",
      "source": [
        "* So tensors made using `tf.Variable` are changeable\n",
        "* Whereas tensors made using `tf.constant` are constant and cannot be changed"
      ],
      "metadata": {
        "id": "AYqIKaRxOCOh"
      }
    },
    {
      "cell_type": "markdown",
      "source": [
        "## Creating an random tensor"
      ],
      "metadata": {
        "id": "xXEk3KIZOAVD"
      }
    },
    {
      "cell_type": "code",
      "source": [
        "random1 = tf.random.Generator.from_seed(42) #set seed for reproducibility\n",
        "random1 = random1.normal(shape=(3, 2))\n",
        "random2 = tf.random.Generator.from_seed(42)\n",
        "random2 = random2.normal(shape = (3, 2))\n",
        "random1, random2, random1 == random2"
      ],
      "metadata": {
        "colab": {
          "base_uri": "https://localhost:8080/"
        },
        "id": "5aXvj0Ael4_g",
        "outputId": "4c927290-3b9d-429b-c823-8b78b1dec2ab"
      },
      "execution_count": 15,
      "outputs": [
        {
          "output_type": "execute_result",
          "data": {
            "text/plain": [
              "(<tf.Tensor: shape=(3, 2), dtype=float32, numpy=\n",
              " array([[-0.7565803 , -0.06854702],\n",
              "        [ 0.07595026, -1.2573844 ],\n",
              "        [-0.23193763, -1.8107855 ]], dtype=float32)>,\n",
              " <tf.Tensor: shape=(3, 2), dtype=float32, numpy=\n",
              " array([[-0.7565803 , -0.06854702],\n",
              "        [ 0.07595026, -1.2573844 ],\n",
              "        [-0.23193763, -1.8107855 ]], dtype=float32)>,\n",
              " <tf.Tensor: shape=(3, 2), dtype=bool, numpy=\n",
              " array([[ True,  True],\n",
              "        [ True,  True],\n",
              "        [ True,  True]])>)"
            ]
          },
          "metadata": {},
          "execution_count": 15
        }
      ]
    },
    {
      "cell_type": "markdown",
      "source": [
        "## Shuffling of tensors"
      ],
      "metadata": {
        "id": "YnZhHbWluni9"
      }
    },
    {
      "cell_type": "code",
      "source": [
        "not_shuffled = tf.constant([[1, 2],\n",
        "                            [3, 4],\n",
        "                            [5, 6]])\n",
        "tf.random.shuffle(not_shuffled) # shuffle value changes constantly and does not remain same"
      ],
      "metadata": {
        "colab": {
          "base_uri": "https://localhost:8080/"
        },
        "id": "0qm4He10uux4",
        "outputId": "c9ee3151-2b2a-4e86-c0d3-785f390bcf5e"
      },
      "execution_count": 16,
      "outputs": [
        {
          "output_type": "execute_result",
          "data": {
            "text/plain": [
              "<tf.Tensor: shape=(3, 2), dtype=int32, numpy=\n",
              "array([[1, 2],\n",
              "       [3, 4],\n",
              "       [5, 6]], dtype=int32)>"
            ]
          },
          "metadata": {},
          "execution_count": 16
        }
      ]
    },
    {
      "cell_type": "code",
      "source": [
        "# by assigning seed we would prvent the constant shuffling\n",
        "tf.random.set_seed(42)\n",
        "tf.random.shuffle(not_shuffled, seed = 42)"
      ],
      "metadata": {
        "colab": {
          "base_uri": "https://localhost:8080/"
        },
        "id": "ytKfSyq3vY64",
        "outputId": "9829e96f-e098-4c3a-f9bd-386f492579bd"
      },
      "execution_count": 17,
      "outputs": [
        {
          "output_type": "execute_result",
          "data": {
            "text/plain": [
              "<tf.Tensor: shape=(3, 2), dtype=int32, numpy=\n",
              "array([[1, 2],\n",
              "       [3, 4],\n",
              "       [5, 6]], dtype=int32)>"
            ]
          },
          "metadata": {},
          "execution_count": 17
        }
      ]
    },
    {
      "cell_type": "markdown",
      "source": [
        "## Other ways to create a tensor"
      ],
      "metadata": {
        "id": "va6SiPX7KfQD"
      }
    },
    {
      "cell_type": "markdown",
      "source": [
        "## Converting numpy array into tensor\n",
        "\n",
        "> Differnce between numpy and tensor is only that the tensor run faster on the GPU"
      ],
      "metadata": {
        "id": "3Ztcw0wLMzTH"
      }
    },
    {
      "cell_type": "code",
      "source": [
        "## Converting numpy array into tensor\n",
        "\n",
        "import numpy as np\n",
        "\n",
        "numpy_A = np.arange(1, 25, dtype= np.int32)\n",
        "numpy_A\n",
        "\n",
        "numpy_tensor = tf.constant(numpy_A, shape =(2, 3, 4))\n",
        "numpy_tensor"
      ],
      "metadata": {
        "colab": {
          "base_uri": "https://localhost:8080/"
        },
        "id": "ZsCn0RBrKdVa",
        "outputId": "6f756c0e-ee81-41ec-ea56-0fc88f110894"
      },
      "execution_count": 18,
      "outputs": [
        {
          "output_type": "execute_result",
          "data": {
            "text/plain": [
              "<tf.Tensor: shape=(2, 3, 4), dtype=int32, numpy=\n",
              "array([[[ 1,  2,  3,  4],\n",
              "        [ 5,  6,  7,  8],\n",
              "        [ 9, 10, 11, 12]],\n",
              "\n",
              "       [[13, 14, 15, 16],\n",
              "        [17, 18, 19, 20],\n",
              "        [21, 22, 23, 24]]], dtype=int32)>"
            ]
          },
          "metadata": {},
          "execution_count": 18
        }
      ]
    },
    {
      "cell_type": "code",
      "source": [
        "# Creting a tensor of all ones\n",
        "\n",
        "onesTensor = tf.ones([3, 4]) ## by default values are assigned float\n",
        "onesTensor"
      ],
      "metadata": {
        "colab": {
          "base_uri": "https://localhost:8080/"
        },
        "id": "0HAN7pSXLyxu",
        "outputId": "9c6ca715-1d30-4e88-fa04-35f9737eb034"
      },
      "execution_count": 19,
      "outputs": [
        {
          "output_type": "execute_result",
          "data": {
            "text/plain": [
              "<tf.Tensor: shape=(3, 4), dtype=float32, numpy=\n",
              "array([[1., 1., 1., 1.],\n",
              "       [1., 1., 1., 1.],\n",
              "       [1., 1., 1., 1.]], dtype=float32)>"
            ]
          },
          "metadata": {},
          "execution_count": 19
        }
      ]
    },
    {
      "cell_type": "code",
      "source": [
        "# Creating a tensor of all zeros\n",
        "\n",
        "zeroTensor = tf.zeros(shape = (3, 4), dtype = tf.int32)\n",
        "zeroTensor"
      ],
      "metadata": {
        "colab": {
          "base_uri": "https://localhost:8080/"
        },
        "id": "vsukPvdkMHo1",
        "outputId": "8dbd8832-6a61-43f4-e54d-6ff25f2eb675"
      },
      "execution_count": 20,
      "outputs": [
        {
          "output_type": "execute_result",
          "data": {
            "text/plain": [
              "<tf.Tensor: shape=(3, 4), dtype=int32, numpy=\n",
              "array([[0, 0, 0, 0],\n",
              "       [0, 0, 0, 0],\n",
              "       [0, 0, 0, 0]], dtype=int32)>"
            ]
          },
          "metadata": {},
          "execution_count": 20
        }
      ]
    },
    {
      "cell_type": "markdown",
      "source": [
        "## Get information from the tensor\n",
        "\n",
        "### Following are the attributes of the tensor\n",
        " * Size\n",
        " * Shape\n",
        " * Axis of dimensions\n",
        " * Rank"
      ],
      "metadata": {
        "id": "wiL1zejQQWjt"
      }
    },
    {
      "cell_type": "code",
      "source": [
        "# Create a tensor of rank 4 (that is tensor with 4 dimensions)\n",
        "\n",
        "rank_4_tensor = tf.zeros([2, 3 , 4, 5], dtype = tf.int32)\n",
        "rank_4_tensor"
      ],
      "metadata": {
        "colab": {
          "base_uri": "https://localhost:8080/"
        },
        "id": "GdiCUAXIQphv",
        "outputId": "ec85e1ff-1860-4f43-d4d3-5c2db57d70e4"
      },
      "execution_count": 21,
      "outputs": [
        {
          "output_type": "execute_result",
          "data": {
            "text/plain": [
              "<tf.Tensor: shape=(2, 3, 4, 5), dtype=int32, numpy=\n",
              "array([[[[0, 0, 0, 0, 0],\n",
              "         [0, 0, 0, 0, 0],\n",
              "         [0, 0, 0, 0, 0],\n",
              "         [0, 0, 0, 0, 0]],\n",
              "\n",
              "        [[0, 0, 0, 0, 0],\n",
              "         [0, 0, 0, 0, 0],\n",
              "         [0, 0, 0, 0, 0],\n",
              "         [0, 0, 0, 0, 0]],\n",
              "\n",
              "        [[0, 0, 0, 0, 0],\n",
              "         [0, 0, 0, 0, 0],\n",
              "         [0, 0, 0, 0, 0],\n",
              "         [0, 0, 0, 0, 0]]],\n",
              "\n",
              "\n",
              "       [[[0, 0, 0, 0, 0],\n",
              "         [0, 0, 0, 0, 0],\n",
              "         [0, 0, 0, 0, 0],\n",
              "         [0, 0, 0, 0, 0]],\n",
              "\n",
              "        [[0, 0, 0, 0, 0],\n",
              "         [0, 0, 0, 0, 0],\n",
              "         [0, 0, 0, 0, 0],\n",
              "         [0, 0, 0, 0, 0]],\n",
              "\n",
              "        [[0, 0, 0, 0, 0],\n",
              "         [0, 0, 0, 0, 0],\n",
              "         [0, 0, 0, 0, 0],\n",
              "         [0, 0, 0, 0, 0]]]], dtype=int32)>"
            ]
          },
          "metadata": {},
          "execution_count": 21
        }
      ]
    },
    {
      "cell_type": "code",
      "source": [
        "# Getting to know about various attributes of \"rank_4_tensor\"\n",
        "\n",
        "print(\"Datatype of the tensor: \", rank_4_tensor.dtype)\n",
        "print(\"Shape of the tensor: \", rank_4_tensor.shape)\n",
        "print(\"Number of dimensions in the tensor: \", rank_4_tensor.ndim)\n",
        "print(\"Number of elements along the 0 axis of tensor: \", rank_4_tensor.shape[0])\n",
        "print(\"Number of elements along the last axis of the tensor: \", rank_4_tensor.shape[-1])\n",
        "print(\"Number of elements in the tensor: \", tf.size(rank_4_tensor))\n",
        "print(\"Number of elements in the tensor: \", tf.size(rank_4_tensor).numpy())"
      ],
      "metadata": {
        "colab": {
          "base_uri": "https://localhost:8080/"
        },
        "id": "pyBFuglCRGYh",
        "outputId": "11cd8cae-b4fa-4725-a177-48757362ffd1"
      },
      "execution_count": 22,
      "outputs": [
        {
          "output_type": "stream",
          "name": "stdout",
          "text": [
            "Datatype of the tensor:  <dtype: 'int32'>\n",
            "Shape of the tensor:  (2, 3, 4, 5)\n",
            "Number of dimensions in the tensor:  4\n",
            "Number of elements along the 0 axis of tensor:  2\n",
            "Number of elements along the last axis of the tensor:  5\n",
            "Number of elements in the tensor:  tf.Tensor(120, shape=(), dtype=int32)\n",
            "Number of elements in the tensor:  120\n"
          ]
        }
      ]
    },
    {
      "cell_type": "markdown",
      "source": [
        "# Indexing of tensors\n"
      ],
      "metadata": {
        "id": "Ygqaku4-SJGB"
      }
    },
    {
      "cell_type": "code",
      "source": [
        "rank2Tensor = tf.constant([[1, 2],\n",
        "                           [3, 4]])\n",
        "rank2Tensor"
      ],
      "metadata": {
        "colab": {
          "base_uri": "https://localhost:8080/"
        },
        "id": "TBr4IwppbZQ-",
        "outputId": "5938a594-0745-491c-eaf8-36901da30527"
      },
      "execution_count": 23,
      "outputs": [
        {
          "output_type": "execute_result",
          "data": {
            "text/plain": [
              "<tf.Tensor: shape=(2, 2), dtype=int32, numpy=\n",
              "array([[1, 2],\n",
              "       [3, 4]], dtype=int32)>"
            ]
          },
          "metadata": {},
          "execution_count": 23
        }
      ]
    },
    {
      "cell_type": "code",
      "source": [
        "# Getting only 1st element from each array\n",
        "rank2Tensor[:, :1]"
      ],
      "metadata": {
        "colab": {
          "base_uri": "https://localhost:8080/"
        },
        "id": "dFLf6n_NcPwG",
        "outputId": "ec1faf57-a365-48c1-fe4a-a45b3de89868"
      },
      "execution_count": 24,
      "outputs": [
        {
          "output_type": "execute_result",
          "data": {
            "text/plain": [
              "<tf.Tensor: shape=(2, 1), dtype=int32, numpy=\n",
              "array([[1],\n",
              "       [3]], dtype=int32)>"
            ]
          },
          "metadata": {},
          "execution_count": 24
        }
      ]
    },
    {
      "cell_type": "code",
      "source": [
        "# Getting only last element from each array\n",
        "rank2Tensor[:, -1]"
      ],
      "metadata": {
        "colab": {
          "base_uri": "https://localhost:8080/"
        },
        "id": "S39TXwQbg-xo",
        "outputId": "2ed5889e-e6be-4da3-8364-f9593b99cef0"
      },
      "execution_count": 25,
      "outputs": [
        {
          "output_type": "execute_result",
          "data": {
            "text/plain": [
              "<tf.Tensor: shape=(2,), dtype=int32, numpy=array([2, 4], dtype=int32)>"
            ]
          },
          "metadata": {},
          "execution_count": 25
        }
      ]
    },
    {
      "cell_type": "code",
      "source": [
        "# adding a new dimension to the tensor\n",
        "rank3Tensor = rank2Tensor[..., tf.newaxis]\n",
        "# rank3Tensor = rank2Tensor[:, :, tf.newaxis] ... also represents :, meanswithout changing the previous axis\n",
        "rank3Tensor"
      ],
      "metadata": {
        "colab": {
          "base_uri": "https://localhost:8080/"
        },
        "id": "WzOOEE8eh2EW",
        "outputId": "5adcab00-d63d-4d67-8d19-1ce9acd412ac"
      },
      "execution_count": 26,
      "outputs": [
        {
          "output_type": "execute_result",
          "data": {
            "text/plain": [
              "<tf.Tensor: shape=(2, 2, 1), dtype=int32, numpy=\n",
              "array([[[1],\n",
              "        [2]],\n",
              "\n",
              "       [[3],\n",
              "        [4]]], dtype=int32)>"
            ]
          },
          "metadata": {},
          "execution_count": 26
        }
      ]
    },
    {
      "cell_type": "code",
      "source": [
        "#another way to add axis is\n",
        "tf.expand_dims(rank2Tensor, axis = -1)  # \"-1\" means expand to the final axis"
      ],
      "metadata": {
        "colab": {
          "base_uri": "https://localhost:8080/"
        },
        "id": "lCvIhKQHkvzV",
        "outputId": "e6dc411e-2729-4386-8635-118d70893187"
      },
      "execution_count": 27,
      "outputs": [
        {
          "output_type": "execute_result",
          "data": {
            "text/plain": [
              "<tf.Tensor: shape=(2, 2, 1), dtype=int32, numpy=\n",
              "array([[[1],\n",
              "        [2]],\n",
              "\n",
              "       [[3],\n",
              "        [4]]], dtype=int32)>"
            ]
          },
          "metadata": {},
          "execution_count": 27
        }
      ]
    },
    {
      "cell_type": "markdown",
      "source": [
        "# manipulating Tensors with basic mathematical operations"
      ],
      "metadata": {
        "id": "-NUdnkx-OQEg"
      }
    },
    {
      "cell_type": "code",
      "source": [
        "newTensor = tf.constant([[1, 2],\n",
        "                         [3, 4]])\n",
        "newTensor"
      ],
      "metadata": {
        "colab": {
          "base_uri": "https://localhost:8080/"
        },
        "id": "qnyJwAC5OPSv",
        "outputId": "535ed59c-f408-4125-9f96-81ba31d9b449"
      },
      "execution_count": 28,
      "outputs": [
        {
          "output_type": "execute_result",
          "data": {
            "text/plain": [
              "<tf.Tensor: shape=(2, 2), dtype=int32, numpy=\n",
              "array([[1, 2],\n",
              "       [3, 4]], dtype=int32)>"
            ]
          },
          "metadata": {},
          "execution_count": 28
        }
      ]
    },
    {
      "cell_type": "code",
      "source": [
        "# Addition Operation\n",
        "\n",
        "newTensor + 10"
      ],
      "metadata": {
        "colab": {
          "base_uri": "https://localhost:8080/"
        },
        "id": "YSRTLsk3Orrp",
        "outputId": "0d725fdc-5cb0-4f7f-a094-c6a1e6064c4b"
      },
      "execution_count": 29,
      "outputs": [
        {
          "output_type": "execute_result",
          "data": {
            "text/plain": [
              "<tf.Tensor: shape=(2, 2), dtype=int32, numpy=\n",
              "array([[11, 12],\n",
              "       [13, 14]], dtype=int32)>"
            ]
          },
          "metadata": {},
          "execution_count": 29
        }
      ]
    },
    {
      "cell_type": "code",
      "source": [
        "# Multiplicaiton operation\n",
        "\n",
        "newTensor * 10"
      ],
      "metadata": {
        "colab": {
          "base_uri": "https://localhost:8080/"
        },
        "id": "g0KgVHLuOx6D",
        "outputId": "6bf2e50c-0f55-4063-a09c-c628d0e7ffea"
      },
      "execution_count": 30,
      "outputs": [
        {
          "output_type": "execute_result",
          "data": {
            "text/plain": [
              "<tf.Tensor: shape=(2, 2), dtype=int32, numpy=\n",
              "array([[10, 20],\n",
              "       [30, 40]], dtype=int32)>"
            ]
          },
          "metadata": {},
          "execution_count": 30
        }
      ]
    },
    {
      "cell_type": "code",
      "source": [
        "# Same for division and subtraction\n",
        "# Another method to perform operation is\n",
        "\n",
        "tensorAddition = tf.math.add(newTensor, 10) # for addition\n",
        "tensorSubtraction = tf.math.subtract(newTensor, 10) # for subtracting\n",
        "tensorMultiplication = tf.math.multiply(newTensor, 10) # for multiplication\n",
        "tensorDivision = tf.math.divide(newTensor, 10) #for division\n",
        "\n",
        "print(tensorAddition)\n",
        "print(tensorSubtraction)\n",
        "print(tensorMultiplication)\n",
        "print(tensorDivision)"
      ],
      "metadata": {
        "colab": {
          "base_uri": "https://localhost:8080/"
        },
        "id": "59erkbpUO4F2",
        "outputId": "4d67bc0b-6163-4aa6-c63b-73f97f97d807"
      },
      "execution_count": 31,
      "outputs": [
        {
          "output_type": "stream",
          "name": "stdout",
          "text": [
            "tf.Tensor(\n",
            "[[11 12]\n",
            " [13 14]], shape=(2, 2), dtype=int32)\n",
            "tf.Tensor(\n",
            "[[-9 -8]\n",
            " [-7 -6]], shape=(2, 2), dtype=int32)\n",
            "tf.Tensor(\n",
            "[[10 20]\n",
            " [30 40]], shape=(2, 2), dtype=int32)\n",
            "tf.Tensor(\n",
            "[[0.1 0.2]\n",
            " [0.3 0.4]], shape=(2, 2), dtype=float64)\n"
          ]
        }
      ]
    },
    {
      "cell_type": "markdown",
      "source": [
        "# Note\n",
        "* Using `tf.math.` is more efficient as it comes with abilities of tensorflow and can help performing operations more faster on the GPU as compared to `tensor + 10`"
      ],
      "metadata": {
        "id": "Dyw9NMB9QCmU"
      }
    },
    {
      "cell_type": "markdown",
      "source": [
        "# Matrix Multiplication\n",
        "* multiplying matrix/tensors with another matrix/tensor\n",
        "* for this operation we use `tf.linalg.matmul` which stands for linear algebra and matrix multiplication\n"
      ],
      "metadata": {
        "id": "sXeLOsiXLF0q"
      }
    },
    {
      "cell_type": "code",
      "source": [
        "# lets create two tensor to demonstrate matrix multiplication\n",
        "matTensor1 = tf.constant([[1, 2, 5],\n",
        "                         [7, 2, 1],\n",
        "                         [3, 3, 3]])\n",
        "matTensor2 = tf.constant([[3, 5],\n",
        "                          [6, 7],\n",
        "                          [1, 8]])\n",
        "matTensor1, matTensor2"
      ],
      "metadata": {
        "colab": {
          "base_uri": "https://localhost:8080/"
        },
        "id": "sG8a9zF-Qa3p",
        "outputId": "2f92299a-62f4-47a2-8926-54e8564257a4"
      },
      "execution_count": 34,
      "outputs": [
        {
          "output_type": "execute_result",
          "data": {
            "text/plain": [
              "(<tf.Tensor: shape=(3, 3), dtype=int32, numpy=\n",
              " array([[1, 2, 5],\n",
              "        [7, 2, 1],\n",
              "        [3, 3, 3]], dtype=int32)>,\n",
              " <tf.Tensor: shape=(3, 2), dtype=int32, numpy=\n",
              " array([[3, 5],\n",
              "        [6, 7],\n",
              "        [1, 8]], dtype=int32)>)"
            ]
          },
          "metadata": {},
          "execution_count": 34
        }
      ]
    },
    {
      "cell_type": "code",
      "source": [
        "tf.linalg.matmul(matTensor1, matTensor2)"
      ],
      "metadata": {
        "colab": {
          "base_uri": "https://localhost:8080/"
        },
        "id": "uFUyeRUpMn-o",
        "outputId": "a50fc88c-d4ba-4481-85d5-57022466b70c"
      },
      "execution_count": 35,
      "outputs": [
        {
          "output_type": "execute_result",
          "data": {
            "text/plain": [
              "<tf.Tensor: shape=(3, 2), dtype=int32, numpy=\n",
              "array([[20, 59],\n",
              "       [34, 57],\n",
              "       [30, 60]], dtype=int32)>"
            ]
          },
          "metadata": {},
          "execution_count": 35
        }
      ]
    },
    {
      "cell_type": "markdown",
      "source": [
        "# Remember when multiplying two tensors with each other\n",
        "\n",
        "* The number of columns of the 1st matrix must equal the number of rows of the 2nd matrix.\n",
        "* And the result will have the same number of rows as the 1st matrix, and the same number of columns as the 2nd matrix.\n",
        "\n",
        "> * For example multiplying two matrcies with shape (2, 3) and (2, 3) that is the same shape will return the error.\n",
        "* As the number of columns in first matrix/tensor that is 2 does not match the number of rows in second tensor that is 3.\n",
        "* Hence to avoid this problem one of the two tensor need to change its shape this can be done using two methods\n",
        "* `tf.reshape(tensor1 , shape=(3,2))` changing shape of first tensor.\n",
        "* Or `tf.transpose(tensor1)`\n",
        "\n",
        "### Difference between `tf.reshape` and `tf.transpose`\n",
        "`tf.reshape`: changes the shape of the tensor randomly\n",
        "`tf.transpose`: changes the axis of the tensor, means changing rows to columns and columns to rows.\n"
      ],
      "metadata": {
        "id": "rd_sxvnOW5Cc"
      }
    },
    {
      "cell_type": "code",
      "source": [
        "X = tf.constant([[1, 2],\n",
        "                 [3, 4],\n",
        "                 [5, 6]])\n",
        "y = tf.constant([[7, 8],\n",
        "                 [9, 10],\n",
        "                 [11, 12]])\n",
        "# lets multiply x and y\n",
        "\n",
        "#operation =  tf.matmul(X, y)\n",
        "\n",
        "# error :\n",
        "# ---------------------------------------------------------------------------\n",
        "# InvalidArgumentError                      Traceback (most recent call last)\n",
        "# <ipython-input-36-e74340f1c6c4> in <cell line: 9>()\n",
        "#       7 # lets multiply x and y\n",
        "#       8\n",
        "# ----> 9 tf.matmul(X, y)\n",
        "\n",
        "# 2 frames\n",
        "# /usr/local/lib/python3.10/dist-packages/tensorflow/python/framework/ops.py in raise_from_not_ok_status(e, name)\n",
        "#    5981 def raise_from_not_ok_status(e, name) -> NoReturn:\n",
        "#    5982   e.message += (\" name: \" + str(name if name is not None else \"\"))\n",
        "# -> 5983   raise core._status_to_exception(e) from None  # pylint: disable=protected-access\n",
        "#    5984\n",
        "#    5985\n",
        "\n",
        "# InvalidArgumentError: {{function_node __wrapped__MatMul_device_/job:localhost/replica:0/task:0/device:CPU:0}} Matrix size-incompatible: In[0]: [3,2], In[1]: [3,2] [Op:MatMul] name:"
      ],
      "metadata": {
        "id": "6Pf0dzLxXxHh"
      },
      "execution_count": 37,
      "outputs": []
    },
    {
      "cell_type": "code",
      "source": [
        "# lets reshape either X or y\n",
        "tf.reshape(X, shape = (2, 3))\n",
        "\n",
        "# now multiply new X with y\n",
        "\n",
        "tf.matmul(tf.reshape(X, shape = (2, 3)), y)"
      ],
      "metadata": {
        "colab": {
          "base_uri": "https://localhost:8080/"
        },
        "id": "x_ZNL6E2dIqm",
        "outputId": "cebee5c5-f9b0-41f1-fec4-8b3c4d31c883"
      },
      "execution_count": 39,
      "outputs": [
        {
          "output_type": "execute_result",
          "data": {
            "text/plain": [
              "<tf.Tensor: shape=(2, 2), dtype=int32, numpy=\n",
              "array([[ 58,  64],\n",
              "       [139, 154]], dtype=int32)>"
            ]
          },
          "metadata": {},
          "execution_count": 39
        }
      ]
    },
    {
      "cell_type": "code",
      "source": [
        "# now lets transpose any one of the tensors\n",
        "tf.transpose(X)\n",
        "\n",
        "# now multiply transposed x and y\n",
        "\n",
        "tf.matmul(tf.transpose(X), y)"
      ],
      "metadata": {
        "colab": {
          "base_uri": "https://localhost:8080/"
        },
        "id": "In_yUD46doSF",
        "outputId": "9321ab38-f5f8-4187-8bc1-3630cec6c81b"
      },
      "execution_count": 41,
      "outputs": [
        {
          "output_type": "execute_result",
          "data": {
            "text/plain": [
              "<tf.Tensor: shape=(2, 2), dtype=int32, numpy=\n",
              "array([[ 89,  98],\n",
              "       [116, 128]], dtype=int32)>"
            ]
          },
          "metadata": {},
          "execution_count": 41
        }
      ]
    },
    {
      "cell_type": "code",
      "source": [
        "print(\"X : \", X)\n",
        "print(\"\\n Y: \", y)\n",
        "print(\"\\n reshaped X and y : \", tf.reshape(X, shape = (2, 3)),\"\\n\", tf.reshape(y, shape = (2, 3)))\n",
        "print(\"\\n transposed X and y : \", tf.transpose(X),\"\\n\", tf.transpose(y))"
      ],
      "metadata": {
        "colab": {
          "base_uri": "https://localhost:8080/"
        },
        "id": "0iLQXK95eIM3",
        "outputId": "1486e3d9-ccfa-4397-b045-3a49d97e18bb"
      },
      "execution_count": 43,
      "outputs": [
        {
          "output_type": "stream",
          "name": "stdout",
          "text": [
            "X :  tf.Tensor(\n",
            "[[1 2]\n",
            " [3 4]\n",
            " [5 6]], shape=(3, 2), dtype=int32)\n",
            "\n",
            " Y:  tf.Tensor(\n",
            "[[ 7  8]\n",
            " [ 9 10]\n",
            " [11 12]], shape=(3, 2), dtype=int32)\n",
            "\n",
            " reshaped X and y :  tf.Tensor(\n",
            "[[1 2 3]\n",
            " [4 5 6]], shape=(2, 3), dtype=int32) \n",
            " tf.Tensor(\n",
            "[[ 7  8  9]\n",
            " [10 11 12]], shape=(2, 3), dtype=int32)\n",
            "\n",
            " transposed X and y :  tf.Tensor(\n",
            "[[1 3 5]\n",
            " [2 4 6]], shape=(2, 3), dtype=int32) \n",
            " tf.Tensor(\n",
            "[[ 7  9 11]\n",
            " [ 8 10 12]], shape=(2, 3), dtype=int32)\n"
          ]
        }
      ]
    }
  ]
}